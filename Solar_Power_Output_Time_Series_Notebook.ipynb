{
 "cells": [
  {
   "cell_type": "markdown",
   "metadata": {},
   "source": [
    "# Project Title"
   ]
  },
  {
   "cell_type": "markdown",
   "metadata": {},
   "source": [
    "**Aidan O'Keefe**"
   ]
  },
  {
   "cell_type": "markdown",
   "metadata": {},
   "source": [
    "SOLAR PANEL IMAGE GOES HERE"
   ]
  },
  {
   "cell_type": "markdown",
   "metadata": {},
   "source": [
    "## Overview"
   ]
  },
  {
   "cell_type": "markdown",
   "metadata": {},
   "source": [
    "A one-paragraph overview of the project, including the business problem, data, methods, results and recommendations."
   ]
  },
  {
   "cell_type": "markdown",
   "metadata": {},
   "source": [
    "A time series analysis and modeling of solar power output in the United States."
   ]
  },
  {
   "cell_type": "code",
   "execution_count": null,
   "metadata": {},
   "outputs": [],
   "source": []
  },
  {
   "cell_type": "markdown",
   "metadata": {},
   "source": [
    "Business and data understanding: what kind of data are you using, and what makes it well-suited for the business problem?<br>\n",
    "<br>\n",
    "You do not need to include any data visualizations in your summary, but consider including relevant descriptive statistics<br>\n",
    "<br>\n",
    "Data preparation: why did you choose the data preparation steps that you did, and what was the result?\n",
    "This should be specific to the kind of data you are working with. For example, if you are doing an NLP project, what did you decide to do with stopwords?<br>\n",
    "<br>\n",
    "Be sure to list the packages/libraries used to prepare the data, and why<br>\n",
    "<br>\n",
    "Modeling: what modeling package(s) did you use, which model(s) within the package(s), and what tuning steps did you take?<br>\n",
    "<br>\n",
    "For some projects there may be only one applicable package; you should still briefly explain why this was the appropriate choice<br>\n",
    "<br>\n",
    "Evaluation: how well did your final model perform?\n",
    "Include one or more relevant metrics\n",
    "Be sure to briefly describe your validation approach\n"
   ]
  },
  {
   "cell_type": "markdown",
   "metadata": {},
   "source": [
    "## Business Problem\n",
    "\n",
    "Summary of the business problem you are trying to solve, and the data questions that you plan to answer to solve them.\n",
    "\n",
    "Questions to consider:\n",
    "\n",
    "- Who are your stakeholders?\n",
    "- What are your stakeholders' pain points related to this project?\n",
    "- Why are your predictions important from a business perspective?"
   ]
  },
  {
   "cell_type": "markdown",
   "metadata": {},
   "source": [
    "## Data Understanding"
   ]
  },
  {
   "cell_type": "markdown",
   "metadata": {},
   "source": [
    "Describe the data being used for this project.\n",
    "\n",
    "From the U.S. Energy Information Administration's website. \n",
    "\n",
    "NM = Not meaningful due to large relative standard error.\n",
    "\n",
    "Questions to consider:\n",
    "\n",
    "- Where did the data come from, and how do they relate to the data analysis questions?\n",
    "- What do the data represent? Who is in the sample and what variables are included?\n",
    "- What is the target variable?\n",
    "- What are the properties of the variables you intend to use?"
   ]
  },
  {
   "cell_type": "code",
   "execution_count": 1,
   "metadata": {},
   "outputs": [],
   "source": [
    "#Importing relevant libraries and tools\n",
    "\n",
    "#Import standard libraries\n",
    "import numpy as np\n",
    "import pandas as pd\n",
    "from scipy import stats as stats\n",
    "\n",
    "#Import visualization libraries\n",
    "from matplotlib import pyplot as plt\n",
    "import seaborn as sns\n",
    "%matplotlib inline\n",
    "\n",
    "#Time-Series\n",
    "from sklearn.model_selection import TimeSeriesSplit\n",
    "from sklearn.metrics import mean_squared_error\n",
    "\n",
    "#Stats Models\n",
    "from statsmodels.tsa.seasonal import seasonal_decompose\n",
    "from statsmodels.tsa.stattools import adfuller\n",
    "from statsmodels.graphics.tsaplots import plot_acf, plot_pacf\n",
    "from statsmodels.tsa.arima.model import ARIMA\n",
    "from statsmodels.tsa.statespace.sarimax import SARIMAX\n",
    "\n",
    "#Facebook Prophet\n",
    "\n",
    "\n",
    "\n",
    "#View all columns in our dataframes\n",
    "pd.options.display.max_columns = None\n",
    "pd.options.display.width = None\n",
    "\n",
    "import warnings\n",
    "warnings.filterwarnings('ignore')"
   ]
  },
  {
   "cell_type": "code",
   "execution_count": 2,
   "metadata": {},
   "outputs": [],
   "source": [
    "# code here to explore your data"
   ]
  },
  {
   "cell_type": "code",
   "execution_count": 3,
   "metadata": {
    "scrolled": false
   },
   "outputs": [
    {
     "data": {
      "text/html": [
       "<div>\n",
       "<style scoped>\n",
       "    .dataframe tbody tr th:only-of-type {\n",
       "        vertical-align: middle;\n",
       "    }\n",
       "\n",
       "    .dataframe tbody tr th {\n",
       "        vertical-align: top;\n",
       "    }\n",
       "\n",
       "    .dataframe thead th {\n",
       "        text-align: right;\n",
       "    }\n",
       "</style>\n",
       "<table border=\"1\" class=\"dataframe\">\n",
       "  <thead>\n",
       "    <tr style=\"text-align: right;\">\n",
       "      <th></th>\n",
       "      <th>description</th>\n",
       "      <th>units</th>\n",
       "      <th>source key</th>\n",
       "      <th>Jan 2001</th>\n",
       "      <th>Feb 2001</th>\n",
       "      <th>Mar 2001</th>\n",
       "      <th>Apr 2001</th>\n",
       "      <th>May 2001</th>\n",
       "      <th>Jun 2001</th>\n",
       "      <th>Jul 2001</th>\n",
       "      <th>Aug 2001</th>\n",
       "      <th>Sep 2001</th>\n",
       "      <th>Oct 2001</th>\n",
       "      <th>Nov 2001</th>\n",
       "      <th>Dec 2001</th>\n",
       "      <th>Jan 2002</th>\n",
       "      <th>Feb 2002</th>\n",
       "      <th>Mar 2002</th>\n",
       "      <th>Apr 2002</th>\n",
       "      <th>May 2002</th>\n",
       "      <th>Jun 2002</th>\n",
       "      <th>Jul 2002</th>\n",
       "      <th>Aug 2002</th>\n",
       "      <th>Sep 2002</th>\n",
       "      <th>Oct 2002</th>\n",
       "      <th>Nov 2002</th>\n",
       "      <th>Dec 2002</th>\n",
       "      <th>Jan 2003</th>\n",
       "      <th>Feb 2003</th>\n",
       "      <th>Mar 2003</th>\n",
       "      <th>Apr 2003</th>\n",
       "      <th>May 2003</th>\n",
       "      <th>Jun 2003</th>\n",
       "      <th>Jul 2003</th>\n",
       "      <th>Aug 2003</th>\n",
       "      <th>Sep 2003</th>\n",
       "      <th>Oct 2003</th>\n",
       "      <th>Nov 2003</th>\n",
       "      <th>Dec 2003</th>\n",
       "      <th>Jan 2004</th>\n",
       "      <th>Feb 2004</th>\n",
       "      <th>Mar 2004</th>\n",
       "      <th>Apr 2004</th>\n",
       "      <th>May 2004</th>\n",
       "      <th>Jun 2004</th>\n",
       "      <th>Jul 2004</th>\n",
       "      <th>Aug 2004</th>\n",
       "      <th>Sep 2004</th>\n",
       "      <th>Oct 2004</th>\n",
       "      <th>Nov 2004</th>\n",
       "      <th>Dec 2004</th>\n",
       "      <th>Jan 2005</th>\n",
       "      <th>Feb 2005</th>\n",
       "      <th>Mar 2005</th>\n",
       "      <th>Apr 2005</th>\n",
       "      <th>May 2005</th>\n",
       "      <th>Jun 2005</th>\n",
       "      <th>Jul 2005</th>\n",
       "      <th>Aug 2005</th>\n",
       "      <th>Sep 2005</th>\n",
       "      <th>Oct 2005</th>\n",
       "      <th>Nov 2005</th>\n",
       "      <th>Dec 2005</th>\n",
       "      <th>Jan 2006</th>\n",
       "      <th>Feb 2006</th>\n",
       "      <th>Mar 2006</th>\n",
       "      <th>Apr 2006</th>\n",
       "      <th>May 2006</th>\n",
       "      <th>Jun 2006</th>\n",
       "      <th>Jul 2006</th>\n",
       "      <th>Aug 2006</th>\n",
       "      <th>Sep 2006</th>\n",
       "      <th>Oct 2006</th>\n",
       "      <th>Nov 2006</th>\n",
       "      <th>Dec 2006</th>\n",
       "      <th>Jan 2007</th>\n",
       "      <th>Feb 2007</th>\n",
       "      <th>Mar 2007</th>\n",
       "      <th>Apr 2007</th>\n",
       "      <th>May 2007</th>\n",
       "      <th>Jun 2007</th>\n",
       "      <th>Jul 2007</th>\n",
       "      <th>Aug 2007</th>\n",
       "      <th>Sep 2007</th>\n",
       "      <th>Oct 2007</th>\n",
       "      <th>Nov 2007</th>\n",
       "      <th>Dec 2007</th>\n",
       "      <th>Jan 2008</th>\n",
       "      <th>Feb 2008</th>\n",
       "      <th>Mar 2008</th>\n",
       "      <th>Apr 2008</th>\n",
       "      <th>May 2008</th>\n",
       "      <th>Jun 2008</th>\n",
       "      <th>Jul 2008</th>\n",
       "      <th>Aug 2008</th>\n",
       "      <th>Sep 2008</th>\n",
       "      <th>Oct 2008</th>\n",
       "      <th>Nov 2008</th>\n",
       "      <th>Dec 2008</th>\n",
       "      <th>Jan 2009</th>\n",
       "      <th>Feb 2009</th>\n",
       "      <th>Mar 2009</th>\n",
       "      <th>Apr 2009</th>\n",
       "      <th>May 2009</th>\n",
       "      <th>Jun 2009</th>\n",
       "      <th>Jul 2009</th>\n",
       "      <th>Aug 2009</th>\n",
       "      <th>Sep 2009</th>\n",
       "      <th>Oct 2009</th>\n",
       "      <th>Nov 2009</th>\n",
       "      <th>Dec 2009</th>\n",
       "      <th>Jan 2010</th>\n",
       "      <th>Feb 2010</th>\n",
       "      <th>Mar 2010</th>\n",
       "      <th>Apr 2010</th>\n",
       "      <th>May 2010</th>\n",
       "      <th>Jun 2010</th>\n",
       "      <th>Jul 2010</th>\n",
       "      <th>Aug 2010</th>\n",
       "      <th>Sep 2010</th>\n",
       "      <th>Oct 2010</th>\n",
       "      <th>Nov 2010</th>\n",
       "      <th>Dec 2010</th>\n",
       "      <th>Jan 2011</th>\n",
       "      <th>Feb 2011</th>\n",
       "      <th>Mar 2011</th>\n",
       "      <th>Apr 2011</th>\n",
       "      <th>May 2011</th>\n",
       "      <th>Jun 2011</th>\n",
       "      <th>Jul 2011</th>\n",
       "      <th>Aug 2011</th>\n",
       "      <th>Sep 2011</th>\n",
       "      <th>Oct 2011</th>\n",
       "      <th>Nov 2011</th>\n",
       "      <th>Dec 2011</th>\n",
       "      <th>Jan 2012</th>\n",
       "      <th>Feb 2012</th>\n",
       "      <th>Mar 2012</th>\n",
       "      <th>Apr 2012</th>\n",
       "      <th>May 2012</th>\n",
       "      <th>Jun 2012</th>\n",
       "      <th>Jul 2012</th>\n",
       "      <th>Aug 2012</th>\n",
       "      <th>Sep 2012</th>\n",
       "      <th>Oct 2012</th>\n",
       "      <th>Nov 2012</th>\n",
       "      <th>Dec 2012</th>\n",
       "      <th>Jan 2013</th>\n",
       "      <th>Feb 2013</th>\n",
       "      <th>Mar 2013</th>\n",
       "      <th>Apr 2013</th>\n",
       "      <th>May 2013</th>\n",
       "      <th>Jun 2013</th>\n",
       "      <th>Jul 2013</th>\n",
       "      <th>Aug 2013</th>\n",
       "      <th>Sep 2013</th>\n",
       "      <th>Oct 2013</th>\n",
       "      <th>Nov 2013</th>\n",
       "      <th>Dec 2013</th>\n",
       "      <th>Jan 2014</th>\n",
       "      <th>Feb 2014</th>\n",
       "      <th>Mar 2014</th>\n",
       "      <th>Apr 2014</th>\n",
       "      <th>May 2014</th>\n",
       "      <th>Jun 2014</th>\n",
       "      <th>Jul 2014</th>\n",
       "      <th>Aug 2014</th>\n",
       "      <th>Sep 2014</th>\n",
       "      <th>Oct 2014</th>\n",
       "      <th>Nov 2014</th>\n",
       "      <th>Dec 2014</th>\n",
       "      <th>Jan 2015</th>\n",
       "      <th>Feb 2015</th>\n",
       "      <th>Mar 2015</th>\n",
       "      <th>Apr 2015</th>\n",
       "      <th>May 2015</th>\n",
       "      <th>Jun 2015</th>\n",
       "      <th>Jul 2015</th>\n",
       "      <th>Aug 2015</th>\n",
       "      <th>Sep 2015</th>\n",
       "      <th>Oct 2015</th>\n",
       "      <th>Nov 2015</th>\n",
       "      <th>Dec 2015</th>\n",
       "      <th>Jan 2016</th>\n",
       "      <th>Feb 2016</th>\n",
       "      <th>Mar 2016</th>\n",
       "      <th>Apr 2016</th>\n",
       "      <th>May 2016</th>\n",
       "      <th>Jun 2016</th>\n",
       "      <th>Jul 2016</th>\n",
       "      <th>Aug 2016</th>\n",
       "      <th>Sep 2016</th>\n",
       "      <th>Oct 2016</th>\n",
       "      <th>Nov 2016</th>\n",
       "      <th>Dec 2016</th>\n",
       "      <th>Jan 2017</th>\n",
       "      <th>Feb 2017</th>\n",
       "      <th>Mar 2017</th>\n",
       "      <th>Apr 2017</th>\n",
       "      <th>May 2017</th>\n",
       "      <th>Jun 2017</th>\n",
       "      <th>Jul 2017</th>\n",
       "      <th>Aug 2017</th>\n",
       "      <th>Sep 2017</th>\n",
       "      <th>Oct 2017</th>\n",
       "      <th>Nov 2017</th>\n",
       "      <th>Dec 2017</th>\n",
       "      <th>Jan 2018</th>\n",
       "      <th>Feb 2018</th>\n",
       "      <th>Mar 2018</th>\n",
       "      <th>Apr 2018</th>\n",
       "      <th>May 2018</th>\n",
       "      <th>Jun 2018</th>\n",
       "      <th>Jul 2018</th>\n",
       "      <th>Aug 2018</th>\n",
       "      <th>Sep 2018</th>\n",
       "      <th>Oct 2018</th>\n",
       "      <th>Nov 2018</th>\n",
       "      <th>Dec 2018</th>\n",
       "      <th>Jan 2019</th>\n",
       "      <th>Feb 2019</th>\n",
       "      <th>Mar 2019</th>\n",
       "      <th>Apr 2019</th>\n",
       "      <th>May 2019</th>\n",
       "      <th>Jun 2019</th>\n",
       "      <th>Jul 2019</th>\n",
       "      <th>Aug 2019</th>\n",
       "      <th>Sep 2019</th>\n",
       "      <th>Oct 2019</th>\n",
       "      <th>Nov 2019</th>\n",
       "      <th>Dec 2019</th>\n",
       "      <th>Jan 2020</th>\n",
       "      <th>Feb 2020</th>\n",
       "      <th>Mar 2020</th>\n",
       "      <th>Apr 2020</th>\n",
       "      <th>May 2020</th>\n",
       "      <th>Jun 2020</th>\n",
       "      <th>Jul 2020</th>\n",
       "      <th>Aug 2020</th>\n",
       "      <th>Sep 2020</th>\n",
       "      <th>Oct 2020</th>\n",
       "      <th>Nov 2020</th>\n",
       "      <th>Dec 2020</th>\n",
       "      <th>Jan 2021</th>\n",
       "      <th>Feb 2021</th>\n",
       "      <th>Mar 2021</th>\n",
       "      <th>Apr 2021</th>\n",
       "      <th>May 2021</th>\n",
       "      <th>Jun 2021</th>\n",
       "      <th>Jul 2021</th>\n",
       "      <th>Aug 2021</th>\n",
       "      <th>Sep 2021</th>\n",
       "      <th>Oct 2021</th>\n",
       "      <th>Nov 2021</th>\n",
       "      <th>Dec 2021</th>\n",
       "      <th>Jan 2022</th>\n",
       "      <th>Feb 2022</th>\n",
       "      <th>Mar 2022</th>\n",
       "      <th>Apr 2022</th>\n",
       "      <th>May 2022</th>\n",
       "      <th>Jun 2022</th>\n",
       "      <th>Jul 2022</th>\n",
       "      <th>Aug 2022</th>\n",
       "      <th>Sep 2022</th>\n",
       "      <th>Oct 2022</th>\n",
       "      <th>Nov 2022</th>\n",
       "      <th>Dec 2022</th>\n",
       "    </tr>\n",
       "  </thead>\n",
       "  <tbody>\n",
       "    <tr>\n",
       "      <th>0</th>\n",
       "      <td>Net generation for all solar</td>\n",
       "      <td>thousand megawatthours</td>\n",
       "      <td>NaN</td>\n",
       "      <td>NaN</td>\n",
       "      <td>NaN</td>\n",
       "      <td>NaN</td>\n",
       "      <td>NaN</td>\n",
       "      <td>NaN</td>\n",
       "      <td>NaN</td>\n",
       "      <td>NaN</td>\n",
       "      <td>NaN</td>\n",
       "      <td>NaN</td>\n",
       "      <td>NaN</td>\n",
       "      <td>NaN</td>\n",
       "      <td>NaN</td>\n",
       "      <td>NaN</td>\n",
       "      <td>NaN</td>\n",
       "      <td>NaN</td>\n",
       "      <td>NaN</td>\n",
       "      <td>NaN</td>\n",
       "      <td>NaN</td>\n",
       "      <td>NaN</td>\n",
       "      <td>NaN</td>\n",
       "      <td>NaN</td>\n",
       "      <td>NaN</td>\n",
       "      <td>NaN</td>\n",
       "      <td>NaN</td>\n",
       "      <td>NaN</td>\n",
       "      <td>NaN</td>\n",
       "      <td>NaN</td>\n",
       "      <td>NaN</td>\n",
       "      <td>NaN</td>\n",
       "      <td>NaN</td>\n",
       "      <td>NaN</td>\n",
       "      <td>NaN</td>\n",
       "      <td>NaN</td>\n",
       "      <td>NaN</td>\n",
       "      <td>NaN</td>\n",
       "      <td>NaN</td>\n",
       "      <td>NaN</td>\n",
       "      <td>NaN</td>\n",
       "      <td>NaN</td>\n",
       "      <td>NaN</td>\n",
       "      <td>NaN</td>\n",
       "      <td>NaN</td>\n",
       "      <td>NaN</td>\n",
       "      <td>NaN</td>\n",
       "      <td>NaN</td>\n",
       "      <td>NaN</td>\n",
       "      <td>NaN</td>\n",
       "      <td>NaN</td>\n",
       "      <td>NaN</td>\n",
       "      <td>NaN</td>\n",
       "      <td>NaN</td>\n",
       "      <td>NaN</td>\n",
       "      <td>NaN</td>\n",
       "      <td>NaN</td>\n",
       "      <td>NaN</td>\n",
       "      <td>NaN</td>\n",
       "      <td>NaN</td>\n",
       "      <td>NaN</td>\n",
       "      <td>NaN</td>\n",
       "      <td>NaN</td>\n",
       "      <td>NaN</td>\n",
       "      <td>NaN</td>\n",
       "      <td>NaN</td>\n",
       "      <td>NaN</td>\n",
       "      <td>NaN</td>\n",
       "      <td>NaN</td>\n",
       "      <td>NaN</td>\n",
       "      <td>NaN</td>\n",
       "      <td>NaN</td>\n",
       "      <td>NaN</td>\n",
       "      <td>NaN</td>\n",
       "      <td>NaN</td>\n",
       "      <td>NaN</td>\n",
       "      <td>NaN</td>\n",
       "      <td>NaN</td>\n",
       "      <td>NaN</td>\n",
       "      <td>NaN</td>\n",
       "      <td>NaN</td>\n",
       "      <td>NaN</td>\n",
       "      <td>NaN</td>\n",
       "      <td>NaN</td>\n",
       "      <td>NaN</td>\n",
       "      <td>NaN</td>\n",
       "      <td>NaN</td>\n",
       "      <td>NaN</td>\n",
       "      <td>NaN</td>\n",
       "      <td>NaN</td>\n",
       "      <td>NaN</td>\n",
       "      <td>NaN</td>\n",
       "      <td>NaN</td>\n",
       "      <td>NaN</td>\n",
       "      <td>NaN</td>\n",
       "      <td>NaN</td>\n",
       "      <td>NaN</td>\n",
       "      <td>NaN</td>\n",
       "      <td>NaN</td>\n",
       "      <td>NaN</td>\n",
       "      <td>NaN</td>\n",
       "      <td>NaN</td>\n",
       "      <td>NaN</td>\n",
       "      <td>NaN</td>\n",
       "      <td>NaN</td>\n",
       "      <td>NaN</td>\n",
       "      <td>NaN</td>\n",
       "      <td>NaN</td>\n",
       "      <td>NaN</td>\n",
       "      <td>NaN</td>\n",
       "      <td>NaN</td>\n",
       "      <td>NaN</td>\n",
       "      <td>NaN</td>\n",
       "      <td>NaN</td>\n",
       "      <td>NaN</td>\n",
       "      <td>NaN</td>\n",
       "      <td>NaN</td>\n",
       "      <td>NaN</td>\n",
       "      <td>NaN</td>\n",
       "      <td>NaN</td>\n",
       "      <td>NaN</td>\n",
       "      <td>NaN</td>\n",
       "      <td>NaN</td>\n",
       "      <td>NaN</td>\n",
       "      <td>NaN</td>\n",
       "      <td>NaN</td>\n",
       "      <td>NaN</td>\n",
       "      <td>NaN</td>\n",
       "      <td>NaN</td>\n",
       "      <td>NaN</td>\n",
       "      <td>NaN</td>\n",
       "      <td>NaN</td>\n",
       "      <td>NaN</td>\n",
       "      <td>NaN</td>\n",
       "      <td>NaN</td>\n",
       "      <td>NaN</td>\n",
       "      <td>NaN</td>\n",
       "      <td>NaN</td>\n",
       "      <td>NaN</td>\n",
       "      <td>NaN</td>\n",
       "      <td>NaN</td>\n",
       "      <td>NaN</td>\n",
       "      <td>NaN</td>\n",
       "      <td>NaN</td>\n",
       "      <td>NaN</td>\n",
       "      <td>NaN</td>\n",
       "      <td>NaN</td>\n",
       "      <td>NaN</td>\n",
       "      <td>NaN</td>\n",
       "      <td>NaN</td>\n",
       "      <td>NaN</td>\n",
       "      <td>NaN</td>\n",
       "      <td>NaN</td>\n",
       "      <td>NaN</td>\n",
       "      <td>NaN</td>\n",
       "      <td>NaN</td>\n",
       "      <td>NaN</td>\n",
       "      <td>NaN</td>\n",
       "      <td>NaN</td>\n",
       "      <td>NaN</td>\n",
       "      <td>NaN</td>\n",
       "      <td>NaN</td>\n",
       "      <td>NaN</td>\n",
       "      <td>NaN</td>\n",
       "      <td>NaN</td>\n",
       "      <td>NaN</td>\n",
       "      <td>NaN</td>\n",
       "      <td>NaN</td>\n",
       "      <td>NaN</td>\n",
       "      <td>NaN</td>\n",
       "      <td>NaN</td>\n",
       "      <td>NaN</td>\n",
       "      <td>NaN</td>\n",
       "      <td>NaN</td>\n",
       "      <td>NaN</td>\n",
       "      <td>NaN</td>\n",
       "      <td>NaN</td>\n",
       "      <td>NaN</td>\n",
       "      <td>NaN</td>\n",
       "      <td>NaN</td>\n",
       "      <td>NaN</td>\n",
       "      <td>NaN</td>\n",
       "      <td>NaN</td>\n",
       "      <td>NaN</td>\n",
       "      <td>NaN</td>\n",
       "      <td>NaN</td>\n",
       "      <td>NaN</td>\n",
       "      <td>NaN</td>\n",
       "      <td>NaN</td>\n",
       "      <td>NaN</td>\n",
       "      <td>NaN</td>\n",
       "      <td>NaN</td>\n",
       "      <td>NaN</td>\n",
       "      <td>NaN</td>\n",
       "      <td>NaN</td>\n",
       "      <td>NaN</td>\n",
       "      <td>NaN</td>\n",
       "      <td>NaN</td>\n",
       "      <td>NaN</td>\n",
       "      <td>NaN</td>\n",
       "      <td>NaN</td>\n",
       "      <td>NaN</td>\n",
       "      <td>NaN</td>\n",
       "      <td>NaN</td>\n",
       "      <td>NaN</td>\n",
       "      <td>NaN</td>\n",
       "      <td>NaN</td>\n",
       "      <td>NaN</td>\n",
       "      <td>NaN</td>\n",
       "      <td>NaN</td>\n",
       "      <td>NaN</td>\n",
       "      <td>NaN</td>\n",
       "      <td>NaN</td>\n",
       "      <td>NaN</td>\n",
       "      <td>NaN</td>\n",
       "      <td>NaN</td>\n",
       "      <td>NaN</td>\n",
       "      <td>NaN</td>\n",
       "      <td>NaN</td>\n",
       "      <td>NaN</td>\n",
       "      <td>NaN</td>\n",
       "      <td>NaN</td>\n",
       "      <td>NaN</td>\n",
       "      <td>NaN</td>\n",
       "      <td>NaN</td>\n",
       "      <td>NaN</td>\n",
       "      <td>NaN</td>\n",
       "      <td>NaN</td>\n",
       "      <td>NaN</td>\n",
       "      <td>NaN</td>\n",
       "      <td>NaN</td>\n",
       "      <td>NaN</td>\n",
       "      <td>NaN</td>\n",
       "      <td>NaN</td>\n",
       "      <td>NaN</td>\n",
       "      <td>NaN</td>\n",
       "      <td>NaN</td>\n",
       "      <td>NaN</td>\n",
       "      <td>NaN</td>\n",
       "      <td>NaN</td>\n",
       "      <td>NaN</td>\n",
       "      <td>NaN</td>\n",
       "      <td>NaN</td>\n",
       "      <td>NaN</td>\n",
       "      <td>NaN</td>\n",
       "      <td>NaN</td>\n",
       "      <td>NaN</td>\n",
       "      <td>NaN</td>\n",
       "      <td>NaN</td>\n",
       "      <td>NaN</td>\n",
       "      <td>NaN</td>\n",
       "      <td>NaN</td>\n",
       "      <td>NaN</td>\n",
       "      <td>NaN</td>\n",
       "      <td>NaN</td>\n",
       "      <td>NaN</td>\n",
       "      <td>NaN</td>\n",
       "      <td>NaN</td>\n",
       "      <td>NaN</td>\n",
       "      <td>NaN</td>\n",
       "      <td>NaN</td>\n",
       "      <td>NaN</td>\n",
       "      <td>NaN</td>\n",
       "      <td>NaN</td>\n",
       "      <td>NaN</td>\n",
       "      <td>NaN</td>\n",
       "      <td>NaN</td>\n",
       "    </tr>\n",
       "    <tr>\n",
       "      <th>1</th>\n",
       "      <td>All sectors</td>\n",
       "      <td>thousand megawatthours</td>\n",
       "      <td>ELEC.GEN.TSN-US-99.M</td>\n",
       "      <td>NaN</td>\n",
       "      <td>NaN</td>\n",
       "      <td>NaN</td>\n",
       "      <td>NaN</td>\n",
       "      <td>NaN</td>\n",
       "      <td>NaN</td>\n",
       "      <td>NaN</td>\n",
       "      <td>NaN</td>\n",
       "      <td>NaN</td>\n",
       "      <td>NaN</td>\n",
       "      <td>NaN</td>\n",
       "      <td>NaN</td>\n",
       "      <td>NaN</td>\n",
       "      <td>NaN</td>\n",
       "      <td>NaN</td>\n",
       "      <td>NaN</td>\n",
       "      <td>NaN</td>\n",
       "      <td>NaN</td>\n",
       "      <td>NaN</td>\n",
       "      <td>NaN</td>\n",
       "      <td>NaN</td>\n",
       "      <td>NaN</td>\n",
       "      <td>NaN</td>\n",
       "      <td>NaN</td>\n",
       "      <td>NaN</td>\n",
       "      <td>NaN</td>\n",
       "      <td>NaN</td>\n",
       "      <td>NaN</td>\n",
       "      <td>NaN</td>\n",
       "      <td>NaN</td>\n",
       "      <td>NaN</td>\n",
       "      <td>NaN</td>\n",
       "      <td>NaN</td>\n",
       "      <td>NaN</td>\n",
       "      <td>NaN</td>\n",
       "      <td>NaN</td>\n",
       "      <td>NaN</td>\n",
       "      <td>NaN</td>\n",
       "      <td>NaN</td>\n",
       "      <td>NaN</td>\n",
       "      <td>NaN</td>\n",
       "      <td>NaN</td>\n",
       "      <td>NaN</td>\n",
       "      <td>NaN</td>\n",
       "      <td>NaN</td>\n",
       "      <td>NaN</td>\n",
       "      <td>NaN</td>\n",
       "      <td>NaN</td>\n",
       "      <td>NaN</td>\n",
       "      <td>NaN</td>\n",
       "      <td>NaN</td>\n",
       "      <td>NaN</td>\n",
       "      <td>NaN</td>\n",
       "      <td>NaN</td>\n",
       "      <td>NaN</td>\n",
       "      <td>NaN</td>\n",
       "      <td>NaN</td>\n",
       "      <td>NaN</td>\n",
       "      <td>NaN</td>\n",
       "      <td>NaN</td>\n",
       "      <td>NaN</td>\n",
       "      <td>NaN</td>\n",
       "      <td>NaN</td>\n",
       "      <td>NaN</td>\n",
       "      <td>NaN</td>\n",
       "      <td>NaN</td>\n",
       "      <td>NaN</td>\n",
       "      <td>NaN</td>\n",
       "      <td>NaN</td>\n",
       "      <td>NaN</td>\n",
       "      <td>NaN</td>\n",
       "      <td>NaN</td>\n",
       "      <td>NaN</td>\n",
       "      <td>NaN</td>\n",
       "      <td>NaN</td>\n",
       "      <td>NaN</td>\n",
       "      <td>NaN</td>\n",
       "      <td>NaN</td>\n",
       "      <td>NaN</td>\n",
       "      <td>NaN</td>\n",
       "      <td>NaN</td>\n",
       "      <td>NaN</td>\n",
       "      <td>NaN</td>\n",
       "      <td>NaN</td>\n",
       "      <td>NaN</td>\n",
       "      <td>NaN</td>\n",
       "      <td>NaN</td>\n",
       "      <td>NaN</td>\n",
       "      <td>NaN</td>\n",
       "      <td>NaN</td>\n",
       "      <td>NaN</td>\n",
       "      <td>NaN</td>\n",
       "      <td>NaN</td>\n",
       "      <td>NaN</td>\n",
       "      <td>NaN</td>\n",
       "      <td>NaN</td>\n",
       "      <td>NaN</td>\n",
       "      <td>NaN</td>\n",
       "      <td>NaN</td>\n",
       "      <td>NaN</td>\n",
       "      <td>NaN</td>\n",
       "      <td>NaN</td>\n",
       "      <td>NaN</td>\n",
       "      <td>NaN</td>\n",
       "      <td>NaN</td>\n",
       "      <td>NaN</td>\n",
       "      <td>NaN</td>\n",
       "      <td>NaN</td>\n",
       "      <td>NaN</td>\n",
       "      <td>NaN</td>\n",
       "      <td>NaN</td>\n",
       "      <td>NaN</td>\n",
       "      <td>NaN</td>\n",
       "      <td>NaN</td>\n",
       "      <td>NaN</td>\n",
       "      <td>NaN</td>\n",
       "      <td>NaN</td>\n",
       "      <td>NaN</td>\n",
       "      <td>NaN</td>\n",
       "      <td>NaN</td>\n",
       "      <td>NaN</td>\n",
       "      <td>NaN</td>\n",
       "      <td>NaN</td>\n",
       "      <td>NaN</td>\n",
       "      <td>NaN</td>\n",
       "      <td>NaN</td>\n",
       "      <td>NaN</td>\n",
       "      <td>NaN</td>\n",
       "      <td>NaN</td>\n",
       "      <td>NaN</td>\n",
       "      <td>NaN</td>\n",
       "      <td>NaN</td>\n",
       "      <td>NaN</td>\n",
       "      <td>NaN</td>\n",
       "      <td>NaN</td>\n",
       "      <td>NaN</td>\n",
       "      <td>NaN</td>\n",
       "      <td>NaN</td>\n",
       "      <td>NaN</td>\n",
       "      <td>NaN</td>\n",
       "      <td>NaN</td>\n",
       "      <td>NaN</td>\n",
       "      <td>NaN</td>\n",
       "      <td>NaN</td>\n",
       "      <td>NaN</td>\n",
       "      <td>NaN</td>\n",
       "      <td>NaN</td>\n",
       "      <td>NaN</td>\n",
       "      <td>NaN</td>\n",
       "      <td>NaN</td>\n",
       "      <td>NaN</td>\n",
       "      <td>NaN</td>\n",
       "      <td>NaN</td>\n",
       "      <td>NaN</td>\n",
       "      <td>NaN</td>\n",
       "      <td>NaN</td>\n",
       "      <td>NaN</td>\n",
       "      <td>NaN</td>\n",
       "      <td>NaN</td>\n",
       "      <td>NaN</td>\n",
       "      <td>NaN</td>\n",
       "      <td>NaN</td>\n",
       "      <td>NaN</td>\n",
       "      <td>NaN</td>\n",
       "      <td>NaN</td>\n",
       "      <td>NaN</td>\n",
       "      <td>NaN</td>\n",
       "      <td>NaN</td>\n",
       "      <td>NaN</td>\n",
       "      <td>NaN</td>\n",
       "      <td>NaN</td>\n",
       "      <td>NaN</td>\n",
       "      <td>NaN</td>\n",
       "      <td>NaN</td>\n",
       "      <td>NaN</td>\n",
       "      <td>NaN</td>\n",
       "      <td>NaN</td>\n",
       "      <td>NaN</td>\n",
       "      <td>NaN</td>\n",
       "      <td>NaN</td>\n",
       "      <td>NaN</td>\n",
       "      <td>NaN</td>\n",
       "      <td>NaN</td>\n",
       "      <td>NaN</td>\n",
       "      <td>NaN</td>\n",
       "      <td>NaN</td>\n",
       "      <td>NaN</td>\n",
       "      <td>NaN</td>\n",
       "      <td>NaN</td>\n",
       "      <td>NaN</td>\n",
       "      <td>NaN</td>\n",
       "      <td>NaN</td>\n",
       "      <td>NaN</td>\n",
       "      <td>NaN</td>\n",
       "      <td>NaN</td>\n",
       "      <td>NaN</td>\n",
       "      <td>NaN</td>\n",
       "      <td>NaN</td>\n",
       "      <td>NaN</td>\n",
       "      <td>NaN</td>\n",
       "      <td>NaN</td>\n",
       "      <td>NaN</td>\n",
       "      <td>NaN</td>\n",
       "      <td>NaN</td>\n",
       "      <td>NaN</td>\n",
       "      <td>NaN</td>\n",
       "      <td>NaN</td>\n",
       "      <td>NaN</td>\n",
       "      <td>NaN</td>\n",
       "      <td>NaN</td>\n",
       "      <td>NaN</td>\n",
       "      <td>NaN</td>\n",
       "      <td>NaN</td>\n",
       "      <td>NaN</td>\n",
       "      <td>NaN</td>\n",
       "      <td>NaN</td>\n",
       "      <td>NaN</td>\n",
       "      <td>NaN</td>\n",
       "      <td>NaN</td>\n",
       "      <td>NaN</td>\n",
       "      <td>NaN</td>\n",
       "      <td>NaN</td>\n",
       "      <td>NaN</td>\n",
       "      <td>NaN</td>\n",
       "      <td>NaN</td>\n",
       "      <td>NaN</td>\n",
       "      <td>NaN</td>\n",
       "      <td>NaN</td>\n",
       "      <td>NaN</td>\n",
       "      <td>NaN</td>\n",
       "      <td>NaN</td>\n",
       "      <td>NaN</td>\n",
       "      <td>NaN</td>\n",
       "      <td>NaN</td>\n",
       "      <td>NaN</td>\n",
       "      <td>NaN</td>\n",
       "      <td>NaN</td>\n",
       "      <td>NaN</td>\n",
       "      <td>NaN</td>\n",
       "      <td>NaN</td>\n",
       "      <td>NaN</td>\n",
       "      <td>NaN</td>\n",
       "      <td>NaN</td>\n",
       "      <td>NaN</td>\n",
       "      <td>NaN</td>\n",
       "      <td>NaN</td>\n",
       "      <td>NaN</td>\n",
       "      <td>NaN</td>\n",
       "      <td>NaN</td>\n",
       "      <td>NaN</td>\n",
       "      <td>NaN</td>\n",
       "      <td>NaN</td>\n",
       "      <td>NaN</td>\n",
       "      <td>NaN</td>\n",
       "      <td>NaN</td>\n",
       "      <td>NaN</td>\n",
       "      <td>NaN</td>\n",
       "      <td>NaN</td>\n",
       "      <td>NaN</td>\n",
       "      <td>NaN</td>\n",
       "      <td>NaN</td>\n",
       "      <td>NaN</td>\n",
       "      <td>NaN</td>\n",
       "      <td>NaN</td>\n",
       "    </tr>\n",
       "    <tr>\n",
       "      <th>2</th>\n",
       "      <td>All sectors : United States</td>\n",
       "      <td>thousand megawatthours</td>\n",
       "      <td>ELEC.GEN.TSN-US-99.M</td>\n",
       "      <td>--</td>\n",
       "      <td>--</td>\n",
       "      <td>--</td>\n",
       "      <td>--</td>\n",
       "      <td>--</td>\n",
       "      <td>--</td>\n",
       "      <td>--</td>\n",
       "      <td>--</td>\n",
       "      <td>--</td>\n",
       "      <td>--</td>\n",
       "      <td>--</td>\n",
       "      <td>--</td>\n",
       "      <td>--</td>\n",
       "      <td>--</td>\n",
       "      <td>--</td>\n",
       "      <td>--</td>\n",
       "      <td>--</td>\n",
       "      <td>--</td>\n",
       "      <td>--</td>\n",
       "      <td>--</td>\n",
       "      <td>--</td>\n",
       "      <td>--</td>\n",
       "      <td>--</td>\n",
       "      <td>--</td>\n",
       "      <td>--</td>\n",
       "      <td>--</td>\n",
       "      <td>--</td>\n",
       "      <td>--</td>\n",
       "      <td>--</td>\n",
       "      <td>--</td>\n",
       "      <td>--</td>\n",
       "      <td>--</td>\n",
       "      <td>--</td>\n",
       "      <td>--</td>\n",
       "      <td>--</td>\n",
       "      <td>--</td>\n",
       "      <td>--</td>\n",
       "      <td>--</td>\n",
       "      <td>--</td>\n",
       "      <td>--</td>\n",
       "      <td>--</td>\n",
       "      <td>--</td>\n",
       "      <td>--</td>\n",
       "      <td>--</td>\n",
       "      <td>--</td>\n",
       "      <td>--</td>\n",
       "      <td>--</td>\n",
       "      <td>--</td>\n",
       "      <td>--</td>\n",
       "      <td>--</td>\n",
       "      <td>--</td>\n",
       "      <td>--</td>\n",
       "      <td>--</td>\n",
       "      <td>--</td>\n",
       "      <td>--</td>\n",
       "      <td>--</td>\n",
       "      <td>--</td>\n",
       "      <td>--</td>\n",
       "      <td>--</td>\n",
       "      <td>--</td>\n",
       "      <td>--</td>\n",
       "      <td>--</td>\n",
       "      <td>--</td>\n",
       "      <td>--</td>\n",
       "      <td>--</td>\n",
       "      <td>--</td>\n",
       "      <td>--</td>\n",
       "      <td>--</td>\n",
       "      <td>--</td>\n",
       "      <td>--</td>\n",
       "      <td>--</td>\n",
       "      <td>--</td>\n",
       "      <td>--</td>\n",
       "      <td>--</td>\n",
       "      <td>--</td>\n",
       "      <td>--</td>\n",
       "      <td>--</td>\n",
       "      <td>--</td>\n",
       "      <td>--</td>\n",
       "      <td>--</td>\n",
       "      <td>--</td>\n",
       "      <td>--</td>\n",
       "      <td>--</td>\n",
       "      <td>--</td>\n",
       "      <td>--</td>\n",
       "      <td>--</td>\n",
       "      <td>--</td>\n",
       "      <td>--</td>\n",
       "      <td>--</td>\n",
       "      <td>--</td>\n",
       "      <td>--</td>\n",
       "      <td>--</td>\n",
       "      <td>--</td>\n",
       "      <td>--</td>\n",
       "      <td>--</td>\n",
       "      <td>--</td>\n",
       "      <td>--</td>\n",
       "      <td>--</td>\n",
       "      <td>--</td>\n",
       "      <td>--</td>\n",
       "      <td>--</td>\n",
       "      <td>--</td>\n",
       "      <td>--</td>\n",
       "      <td>--</td>\n",
       "      <td>--</td>\n",
       "      <td>--</td>\n",
       "      <td>--</td>\n",
       "      <td>--</td>\n",
       "      <td>--</td>\n",
       "      <td>--</td>\n",
       "      <td>--</td>\n",
       "      <td>--</td>\n",
       "      <td>--</td>\n",
       "      <td>--</td>\n",
       "      <td>--</td>\n",
       "      <td>--</td>\n",
       "      <td>--</td>\n",
       "      <td>--</td>\n",
       "      <td>--</td>\n",
       "      <td>--</td>\n",
       "      <td>--</td>\n",
       "      <td>--</td>\n",
       "      <td>--</td>\n",
       "      <td>--</td>\n",
       "      <td>--</td>\n",
       "      <td>--</td>\n",
       "      <td>--</td>\n",
       "      <td>--</td>\n",
       "      <td>--</td>\n",
       "      <td>--</td>\n",
       "      <td>--</td>\n",
       "      <td>--</td>\n",
       "      <td>--</td>\n",
       "      <td>--</td>\n",
       "      <td>--</td>\n",
       "      <td>--</td>\n",
       "      <td>--</td>\n",
       "      <td>--</td>\n",
       "      <td>--</td>\n",
       "      <td>--</td>\n",
       "      <td>--</td>\n",
       "      <td>--</td>\n",
       "      <td>--</td>\n",
       "      <td>--</td>\n",
       "      <td>--</td>\n",
       "      <td>--</td>\n",
       "      <td>--</td>\n",
       "      <td>--</td>\n",
       "      <td>--</td>\n",
       "      <td>--</td>\n",
       "      <td>--</td>\n",
       "      <td>--</td>\n",
       "      <td>--</td>\n",
       "      <td>--</td>\n",
       "      <td>--</td>\n",
       "      <td>--</td>\n",
       "      <td>1375</td>\n",
       "      <td>1499</td>\n",
       "      <td>2224</td>\n",
       "      <td>2476</td>\n",
       "      <td>2842</td>\n",
       "      <td>3024</td>\n",
       "      <td>2936</td>\n",
       "      <td>3019</td>\n",
       "      <td>2879</td>\n",
       "      <td>2682</td>\n",
       "      <td>2171</td>\n",
       "      <td>1798</td>\n",
       "      <td>1902</td>\n",
       "      <td>2299</td>\n",
       "      <td>3206</td>\n",
       "      <td>3643</td>\n",
       "      <td>3898</td>\n",
       "      <td>3966</td>\n",
       "      <td>4114</td>\n",
       "      <td>4156</td>\n",
       "      <td>3547</td>\n",
       "      <td>3107</td>\n",
       "      <td>2712</td>\n",
       "      <td>2484</td>\n",
       "      <td>2465.0</td>\n",
       "      <td>3386.0</td>\n",
       "      <td>4143</td>\n",
       "      <td>4583</td>\n",
       "      <td>5304</td>\n",
       "      <td>5401</td>\n",
       "      <td>5945</td>\n",
       "      <td>5911</td>\n",
       "      <td>5370</td>\n",
       "      <td>4743</td>\n",
       "      <td>4024</td>\n",
       "      <td>3591</td>\n",
       "      <td>3570</td>\n",
       "      <td>4135</td>\n",
       "      <td>6487</td>\n",
       "      <td>7102</td>\n",
       "      <td>8208</td>\n",
       "      <td>8602</td>\n",
       "      <td>8124</td>\n",
       "      <td>7848</td>\n",
       "      <td>7285</td>\n",
       "      <td>6640</td>\n",
       "      <td>4770</td>\n",
       "      <td>4507</td>\n",
       "      <td>4938</td>\n",
       "      <td>5663</td>\n",
       "      <td>7490</td>\n",
       "      <td>8796</td>\n",
       "      <td>9860</td>\n",
       "      <td>10474</td>\n",
       "      <td>9901</td>\n",
       "      <td>9712</td>\n",
       "      <td>8635</td>\n",
       "      <td>7361</td>\n",
       "      <td>5648</td>\n",
       "      <td>4885</td>\n",
       "      <td>5483</td>\n",
       "      <td>5895</td>\n",
       "      <td>8813</td>\n",
       "      <td>9997</td>\n",
       "      <td>10711</td>\n",
       "      <td>11575</td>\n",
       "      <td>11893</td>\n",
       "      <td>11488</td>\n",
       "      <td>10022</td>\n",
       "      <td>8926</td>\n",
       "      <td>6592</td>\n",
       "      <td>5500</td>\n",
       "      <td>6771</td>\n",
       "      <td>8184</td>\n",
       "      <td>9774</td>\n",
       "      <td>11736</td>\n",
       "      <td>13921</td>\n",
       "      <td>13923</td>\n",
       "      <td>15015</td>\n",
       "      <td>13514</td>\n",
       "      <td>11454</td>\n",
       "      <td>10395</td>\n",
       "      <td>8453</td>\n",
       "      <td>7580</td>\n",
       "      <td>8309</td>\n",
       "      <td>9270</td>\n",
       "      <td>13454</td>\n",
       "      <td>15502</td>\n",
       "      <td>17520</td>\n",
       "      <td>17304</td>\n",
       "      <td>17384</td>\n",
       "      <td>16891</td>\n",
       "      <td>15584</td>\n",
       "      <td>13089</td>\n",
       "      <td>11054</td>\n",
       "      <td>9061.0</td>\n",
       "      <td>11418</td>\n",
       "      <td>12910</td>\n",
       "      <td>16798</td>\n",
       "      <td>18885</td>\n",
       "      <td>21145</td>\n",
       "      <td>21998</td>\n",
       "      <td>21907</td>\n",
       "      <td>20352</td>\n",
       "      <td>18786</td>\n",
       "      <td>17042</td>\n",
       "      <td>12336</td>\n",
       "      <td>10534</td>\n",
       "    </tr>\n",
       "    <tr>\n",
       "      <th>3</th>\n",
       "      <td>All sectors : New England</td>\n",
       "      <td>thousand megawatthours</td>\n",
       "      <td>ELEC.GEN.TSN-NEW-99.M</td>\n",
       "      <td>--</td>\n",
       "      <td>--</td>\n",
       "      <td>--</td>\n",
       "      <td>--</td>\n",
       "      <td>--</td>\n",
       "      <td>--</td>\n",
       "      <td>--</td>\n",
       "      <td>--</td>\n",
       "      <td>--</td>\n",
       "      <td>--</td>\n",
       "      <td>--</td>\n",
       "      <td>--</td>\n",
       "      <td>--</td>\n",
       "      <td>--</td>\n",
       "      <td>--</td>\n",
       "      <td>--</td>\n",
       "      <td>--</td>\n",
       "      <td>--</td>\n",
       "      <td>--</td>\n",
       "      <td>--</td>\n",
       "      <td>--</td>\n",
       "      <td>--</td>\n",
       "      <td>--</td>\n",
       "      <td>--</td>\n",
       "      <td>--</td>\n",
       "      <td>--</td>\n",
       "      <td>--</td>\n",
       "      <td>--</td>\n",
       "      <td>--</td>\n",
       "      <td>--</td>\n",
       "      <td>--</td>\n",
       "      <td>--</td>\n",
       "      <td>--</td>\n",
       "      <td>--</td>\n",
       "      <td>--</td>\n",
       "      <td>--</td>\n",
       "      <td>--</td>\n",
       "      <td>--</td>\n",
       "      <td>--</td>\n",
       "      <td>--</td>\n",
       "      <td>--</td>\n",
       "      <td>--</td>\n",
       "      <td>--</td>\n",
       "      <td>--</td>\n",
       "      <td>--</td>\n",
       "      <td>--</td>\n",
       "      <td>--</td>\n",
       "      <td>--</td>\n",
       "      <td>--</td>\n",
       "      <td>--</td>\n",
       "      <td>--</td>\n",
       "      <td>--</td>\n",
       "      <td>--</td>\n",
       "      <td>--</td>\n",
       "      <td>--</td>\n",
       "      <td>--</td>\n",
       "      <td>--</td>\n",
       "      <td>--</td>\n",
       "      <td>--</td>\n",
       "      <td>--</td>\n",
       "      <td>--</td>\n",
       "      <td>--</td>\n",
       "      <td>--</td>\n",
       "      <td>--</td>\n",
       "      <td>--</td>\n",
       "      <td>--</td>\n",
       "      <td>--</td>\n",
       "      <td>--</td>\n",
       "      <td>--</td>\n",
       "      <td>--</td>\n",
       "      <td>--</td>\n",
       "      <td>--</td>\n",
       "      <td>--</td>\n",
       "      <td>--</td>\n",
       "      <td>--</td>\n",
       "      <td>--</td>\n",
       "      <td>--</td>\n",
       "      <td>--</td>\n",
       "      <td>--</td>\n",
       "      <td>--</td>\n",
       "      <td>--</td>\n",
       "      <td>--</td>\n",
       "      <td>--</td>\n",
       "      <td>--</td>\n",
       "      <td>--</td>\n",
       "      <td>--</td>\n",
       "      <td>--</td>\n",
       "      <td>--</td>\n",
       "      <td>--</td>\n",
       "      <td>--</td>\n",
       "      <td>--</td>\n",
       "      <td>--</td>\n",
       "      <td>--</td>\n",
       "      <td>--</td>\n",
       "      <td>--</td>\n",
       "      <td>--</td>\n",
       "      <td>--</td>\n",
       "      <td>--</td>\n",
       "      <td>--</td>\n",
       "      <td>--</td>\n",
       "      <td>--</td>\n",
       "      <td>--</td>\n",
       "      <td>--</td>\n",
       "      <td>--</td>\n",
       "      <td>--</td>\n",
       "      <td>--</td>\n",
       "      <td>--</td>\n",
       "      <td>--</td>\n",
       "      <td>--</td>\n",
       "      <td>--</td>\n",
       "      <td>--</td>\n",
       "      <td>--</td>\n",
       "      <td>--</td>\n",
       "      <td>--</td>\n",
       "      <td>--</td>\n",
       "      <td>--</td>\n",
       "      <td>--</td>\n",
       "      <td>--</td>\n",
       "      <td>--</td>\n",
       "      <td>--</td>\n",
       "      <td>--</td>\n",
       "      <td>--</td>\n",
       "      <td>--</td>\n",
       "      <td>--</td>\n",
       "      <td>--</td>\n",
       "      <td>--</td>\n",
       "      <td>--</td>\n",
       "      <td>--</td>\n",
       "      <td>--</td>\n",
       "      <td>--</td>\n",
       "      <td>--</td>\n",
       "      <td>--</td>\n",
       "      <td>--</td>\n",
       "      <td>--</td>\n",
       "      <td>--</td>\n",
       "      <td>--</td>\n",
       "      <td>--</td>\n",
       "      <td>--</td>\n",
       "      <td>--</td>\n",
       "      <td>--</td>\n",
       "      <td>--</td>\n",
       "      <td>--</td>\n",
       "      <td>--</td>\n",
       "      <td>--</td>\n",
       "      <td>--</td>\n",
       "      <td>--</td>\n",
       "      <td>--</td>\n",
       "      <td>--</td>\n",
       "      <td>--</td>\n",
       "      <td>--</td>\n",
       "      <td>--</td>\n",
       "      <td>--</td>\n",
       "      <td>--</td>\n",
       "      <td>--</td>\n",
       "      <td>--</td>\n",
       "      <td>--</td>\n",
       "      <td>51</td>\n",
       "      <td>59</td>\n",
       "      <td>83</td>\n",
       "      <td>95</td>\n",
       "      <td>112</td>\n",
       "      <td>116</td>\n",
       "      <td>124</td>\n",
       "      <td>136</td>\n",
       "      <td>127</td>\n",
       "      <td>109</td>\n",
       "      <td>84</td>\n",
       "      <td>79</td>\n",
       "      <td>83</td>\n",
       "      <td>96</td>\n",
       "      <td>136</td>\n",
       "      <td>155</td>\n",
       "      <td>169</td>\n",
       "      <td>169</td>\n",
       "      <td>188</td>\n",
       "      <td>187</td>\n",
       "      <td>166</td>\n",
       "      <td>137</td>\n",
       "      <td>111</td>\n",
       "      <td>107</td>\n",
       "      <td>117.0</td>\n",
       "      <td>162.0</td>\n",
       "      <td>193</td>\n",
       "      <td>220</td>\n",
       "      <td>247</td>\n",
       "      <td>252</td>\n",
       "      <td>274</td>\n",
       "      <td>268</td>\n",
       "      <td>241</td>\n",
       "      <td>195</td>\n",
       "      <td>154</td>\n",
       "      <td>145</td>\n",
       "      <td>146</td>\n",
       "      <td>190</td>\n",
       "      <td>265</td>\n",
       "      <td>295</td>\n",
       "      <td>313</td>\n",
       "      <td>344</td>\n",
       "      <td>361</td>\n",
       "      <td>355</td>\n",
       "      <td>303</td>\n",
       "      <td>252</td>\n",
       "      <td>178</td>\n",
       "      <td>163</td>\n",
       "      <td>212</td>\n",
       "      <td>247</td>\n",
       "      <td>356</td>\n",
       "      <td>400</td>\n",
       "      <td>456</td>\n",
       "      <td>456</td>\n",
       "      <td>503</td>\n",
       "      <td>449</td>\n",
       "      <td>354</td>\n",
       "      <td>302</td>\n",
       "      <td>210</td>\n",
       "      <td>259</td>\n",
       "      <td>256</td>\n",
       "      <td>296</td>\n",
       "      <td>413</td>\n",
       "      <td>450</td>\n",
       "      <td>481</td>\n",
       "      <td>505</td>\n",
       "      <td>568</td>\n",
       "      <td>515</td>\n",
       "      <td>460</td>\n",
       "      <td>338</td>\n",
       "      <td>260</td>\n",
       "      <td>225</td>\n",
       "      <td>295</td>\n",
       "      <td>367</td>\n",
       "      <td>514</td>\n",
       "      <td>537</td>\n",
       "      <td>655</td>\n",
       "      <td>637</td>\n",
       "      <td>658</td>\n",
       "      <td>616</td>\n",
       "      <td>536</td>\n",
       "      <td>407</td>\n",
       "      <td>304</td>\n",
       "      <td>280</td>\n",
       "      <td>348</td>\n",
       "      <td>348</td>\n",
       "      <td>669</td>\n",
       "      <td>658</td>\n",
       "      <td>758</td>\n",
       "      <td>783</td>\n",
       "      <td>720</td>\n",
       "      <td>694</td>\n",
       "      <td>609</td>\n",
       "      <td>465</td>\n",
       "      <td>412</td>\n",
       "      <td>307.0</td>\n",
       "      <td>452</td>\n",
       "      <td>525</td>\n",
       "      <td>716</td>\n",
       "      <td>817</td>\n",
       "      <td>896</td>\n",
       "      <td>914</td>\n",
       "      <td>952</td>\n",
       "      <td>885</td>\n",
       "      <td>794</td>\n",
       "      <td>671</td>\n",
       "      <td>471</td>\n",
       "      <td>424</td>\n",
       "    </tr>\n",
       "    <tr>\n",
       "      <th>4</th>\n",
       "      <td>All sectors : Connecticut</td>\n",
       "      <td>thousand megawatthours</td>\n",
       "      <td>ELEC.GEN.TSN-CT-99.M</td>\n",
       "      <td>--</td>\n",
       "      <td>--</td>\n",
       "      <td>--</td>\n",
       "      <td>--</td>\n",
       "      <td>--</td>\n",
       "      <td>--</td>\n",
       "      <td>--</td>\n",
       "      <td>--</td>\n",
       "      <td>--</td>\n",
       "      <td>--</td>\n",
       "      <td>--</td>\n",
       "      <td>--</td>\n",
       "      <td>--</td>\n",
       "      <td>--</td>\n",
       "      <td>--</td>\n",
       "      <td>--</td>\n",
       "      <td>--</td>\n",
       "      <td>--</td>\n",
       "      <td>--</td>\n",
       "      <td>--</td>\n",
       "      <td>--</td>\n",
       "      <td>--</td>\n",
       "      <td>--</td>\n",
       "      <td>--</td>\n",
       "      <td>--</td>\n",
       "      <td>--</td>\n",
       "      <td>--</td>\n",
       "      <td>--</td>\n",
       "      <td>--</td>\n",
       "      <td>--</td>\n",
       "      <td>--</td>\n",
       "      <td>--</td>\n",
       "      <td>--</td>\n",
       "      <td>--</td>\n",
       "      <td>--</td>\n",
       "      <td>--</td>\n",
       "      <td>--</td>\n",
       "      <td>--</td>\n",
       "      <td>--</td>\n",
       "      <td>--</td>\n",
       "      <td>--</td>\n",
       "      <td>--</td>\n",
       "      <td>--</td>\n",
       "      <td>--</td>\n",
       "      <td>--</td>\n",
       "      <td>--</td>\n",
       "      <td>--</td>\n",
       "      <td>--</td>\n",
       "      <td>--</td>\n",
       "      <td>--</td>\n",
       "      <td>--</td>\n",
       "      <td>--</td>\n",
       "      <td>--</td>\n",
       "      <td>--</td>\n",
       "      <td>--</td>\n",
       "      <td>--</td>\n",
       "      <td>--</td>\n",
       "      <td>--</td>\n",
       "      <td>--</td>\n",
       "      <td>--</td>\n",
       "      <td>--</td>\n",
       "      <td>--</td>\n",
       "      <td>--</td>\n",
       "      <td>--</td>\n",
       "      <td>--</td>\n",
       "      <td>--</td>\n",
       "      <td>--</td>\n",
       "      <td>--</td>\n",
       "      <td>--</td>\n",
       "      <td>--</td>\n",
       "      <td>--</td>\n",
       "      <td>--</td>\n",
       "      <td>--</td>\n",
       "      <td>--</td>\n",
       "      <td>--</td>\n",
       "      <td>--</td>\n",
       "      <td>--</td>\n",
       "      <td>--</td>\n",
       "      <td>--</td>\n",
       "      <td>--</td>\n",
       "      <td>--</td>\n",
       "      <td>--</td>\n",
       "      <td>--</td>\n",
       "      <td>--</td>\n",
       "      <td>--</td>\n",
       "      <td>--</td>\n",
       "      <td>--</td>\n",
       "      <td>--</td>\n",
       "      <td>--</td>\n",
       "      <td>--</td>\n",
       "      <td>--</td>\n",
       "      <td>--</td>\n",
       "      <td>--</td>\n",
       "      <td>--</td>\n",
       "      <td>--</td>\n",
       "      <td>--</td>\n",
       "      <td>--</td>\n",
       "      <td>--</td>\n",
       "      <td>--</td>\n",
       "      <td>--</td>\n",
       "      <td>--</td>\n",
       "      <td>--</td>\n",
       "      <td>--</td>\n",
       "      <td>--</td>\n",
       "      <td>--</td>\n",
       "      <td>--</td>\n",
       "      <td>--</td>\n",
       "      <td>--</td>\n",
       "      <td>--</td>\n",
       "      <td>--</td>\n",
       "      <td>--</td>\n",
       "      <td>--</td>\n",
       "      <td>--</td>\n",
       "      <td>--</td>\n",
       "      <td>--</td>\n",
       "      <td>--</td>\n",
       "      <td>--</td>\n",
       "      <td>--</td>\n",
       "      <td>--</td>\n",
       "      <td>--</td>\n",
       "      <td>--</td>\n",
       "      <td>--</td>\n",
       "      <td>--</td>\n",
       "      <td>--</td>\n",
       "      <td>--</td>\n",
       "      <td>--</td>\n",
       "      <td>--</td>\n",
       "      <td>--</td>\n",
       "      <td>--</td>\n",
       "      <td>--</td>\n",
       "      <td>--</td>\n",
       "      <td>--</td>\n",
       "      <td>--</td>\n",
       "      <td>--</td>\n",
       "      <td>--</td>\n",
       "      <td>--</td>\n",
       "      <td>--</td>\n",
       "      <td>--</td>\n",
       "      <td>--</td>\n",
       "      <td>--</td>\n",
       "      <td>--</td>\n",
       "      <td>--</td>\n",
       "      <td>--</td>\n",
       "      <td>--</td>\n",
       "      <td>--</td>\n",
       "      <td>--</td>\n",
       "      <td>--</td>\n",
       "      <td>--</td>\n",
       "      <td>--</td>\n",
       "      <td>--</td>\n",
       "      <td>--</td>\n",
       "      <td>--</td>\n",
       "      <td>--</td>\n",
       "      <td>--</td>\n",
       "      <td>--</td>\n",
       "      <td>--</td>\n",
       "      <td>7</td>\n",
       "      <td>8</td>\n",
       "      <td>11</td>\n",
       "      <td>12</td>\n",
       "      <td>13</td>\n",
       "      <td>14</td>\n",
       "      <td>15</td>\n",
       "      <td>15</td>\n",
       "      <td>14</td>\n",
       "      <td>12</td>\n",
       "      <td>9</td>\n",
       "      <td>10</td>\n",
       "      <td>10</td>\n",
       "      <td>11</td>\n",
       "      <td>16</td>\n",
       "      <td>19</td>\n",
       "      <td>21</td>\n",
       "      <td>21</td>\n",
       "      <td>25</td>\n",
       "      <td>24</td>\n",
       "      <td>22</td>\n",
       "      <td>18</td>\n",
       "      <td>14</td>\n",
       "      <td>14</td>\n",
       "      <td>17.0</td>\n",
       "      <td>20.0</td>\n",
       "      <td>28</td>\n",
       "      <td>31</td>\n",
       "      <td>34</td>\n",
       "      <td>36</td>\n",
       "      <td>39</td>\n",
       "      <td>38</td>\n",
       "      <td>33</td>\n",
       "      <td>27</td>\n",
       "      <td>21</td>\n",
       "      <td>21</td>\n",
       "      <td>21</td>\n",
       "      <td>27</td>\n",
       "      <td>37</td>\n",
       "      <td>42</td>\n",
       "      <td>45</td>\n",
       "      <td>48</td>\n",
       "      <td>52</td>\n",
       "      <td>49</td>\n",
       "      <td>42</td>\n",
       "      <td>34</td>\n",
       "      <td>25</td>\n",
       "      <td>23</td>\n",
       "      <td>29</td>\n",
       "      <td>33</td>\n",
       "      <td>51</td>\n",
       "      <td>56</td>\n",
       "      <td>63</td>\n",
       "      <td>63</td>\n",
       "      <td>68</td>\n",
       "      <td>61</td>\n",
       "      <td>49</td>\n",
       "      <td>43</td>\n",
       "      <td>32</td>\n",
       "      <td>57</td>\n",
       "      <td>39</td>\n",
       "      <td>46</td>\n",
       "      <td>63</td>\n",
       "      <td>69</td>\n",
       "      <td>75</td>\n",
       "      <td>78</td>\n",
       "      <td>87</td>\n",
       "      <td>80</td>\n",
       "      <td>71</td>\n",
       "      <td>52</td>\n",
       "      <td>41</td>\n",
       "      <td>37</td>\n",
       "      <td>49</td>\n",
       "      <td>60</td>\n",
       "      <td>83</td>\n",
       "      <td>86</td>\n",
       "      <td>106</td>\n",
       "      <td>104</td>\n",
       "      <td>108</td>\n",
       "      <td>99</td>\n",
       "      <td>88</td>\n",
       "      <td>67</td>\n",
       "      <td>52</td>\n",
       "      <td>47</td>\n",
       "      <td>59</td>\n",
       "      <td>58</td>\n",
       "      <td>107</td>\n",
       "      <td>106</td>\n",
       "      <td>125</td>\n",
       "      <td>128</td>\n",
       "      <td>119</td>\n",
       "      <td>112</td>\n",
       "      <td>103</td>\n",
       "      <td>81</td>\n",
       "      <td>72</td>\n",
       "      <td>58.0</td>\n",
       "      <td>69</td>\n",
       "      <td>86</td>\n",
       "      <td>121</td>\n",
       "      <td>138</td>\n",
       "      <td>150</td>\n",
       "      <td>152</td>\n",
       "      <td>159</td>\n",
       "      <td>146</td>\n",
       "      <td>126</td>\n",
       "      <td>105</td>\n",
       "      <td>77</td>\n",
       "      <td>69</td>\n",
       "    </tr>\n",
       "  </tbody>\n",
       "</table>\n",
       "</div>"
      ],
      "text/plain": [
       "                    description                   units  \\\n",
       "0  Net generation for all solar  thousand megawatthours   \n",
       "1                   All sectors  thousand megawatthours   \n",
       "2   All sectors : United States  thousand megawatthours   \n",
       "3     All sectors : New England  thousand megawatthours   \n",
       "4     All sectors : Connecticut  thousand megawatthours   \n",
       "\n",
       "              source key Jan 2001 Feb 2001 Mar 2001 Apr 2001 May 2001  \\\n",
       "0                    NaN      NaN      NaN      NaN      NaN      NaN   \n",
       "1   ELEC.GEN.TSN-US-99.M      NaN      NaN      NaN      NaN      NaN   \n",
       "2   ELEC.GEN.TSN-US-99.M       --       --       --       --       --   \n",
       "3  ELEC.GEN.TSN-NEW-99.M       --       --       --       --       --   \n",
       "4   ELEC.GEN.TSN-CT-99.M       --       --       --       --       --   \n",
       "\n",
       "  Jun 2001 Jul 2001 Aug 2001 Sep 2001 Oct 2001 Nov 2001 Dec 2001 Jan 2002  \\\n",
       "0      NaN      NaN      NaN      NaN      NaN      NaN      NaN      NaN   \n",
       "1      NaN      NaN      NaN      NaN      NaN      NaN      NaN      NaN   \n",
       "2       --       --       --       --       --       --       --       --   \n",
       "3       --       --       --       --       --       --       --       --   \n",
       "4       --       --       --       --       --       --       --       --   \n",
       "\n",
       "  Feb 2002 Mar 2002 Apr 2002 May 2002 Jun 2002 Jul 2002 Aug 2002 Sep 2002  \\\n",
       "0      NaN      NaN      NaN      NaN      NaN      NaN      NaN      NaN   \n",
       "1      NaN      NaN      NaN      NaN      NaN      NaN      NaN      NaN   \n",
       "2       --       --       --       --       --       --       --       --   \n",
       "3       --       --       --       --       --       --       --       --   \n",
       "4       --       --       --       --       --       --       --       --   \n",
       "\n",
       "  Oct 2002 Nov 2002 Dec 2002 Jan 2003 Feb 2003 Mar 2003 Apr 2003 May 2003  \\\n",
       "0      NaN      NaN      NaN      NaN      NaN      NaN      NaN      NaN   \n",
       "1      NaN      NaN      NaN      NaN      NaN      NaN      NaN      NaN   \n",
       "2       --       --       --       --       --       --       --       --   \n",
       "3       --       --       --       --       --       --       --       --   \n",
       "4       --       --       --       --       --       --       --       --   \n",
       "\n",
       "  Jun 2003 Jul 2003 Aug 2003 Sep 2003 Oct 2003 Nov 2003 Dec 2003 Jan 2004  \\\n",
       "0      NaN      NaN      NaN      NaN      NaN      NaN      NaN      NaN   \n",
       "1      NaN      NaN      NaN      NaN      NaN      NaN      NaN      NaN   \n",
       "2       --       --       --       --       --       --       --       --   \n",
       "3       --       --       --       --       --       --       --       --   \n",
       "4       --       --       --       --       --       --       --       --   \n",
       "\n",
       "  Feb 2004 Mar 2004 Apr 2004 May 2004 Jun 2004 Jul 2004 Aug 2004 Sep 2004  \\\n",
       "0      NaN      NaN      NaN      NaN      NaN      NaN      NaN      NaN   \n",
       "1      NaN      NaN      NaN      NaN      NaN      NaN      NaN      NaN   \n",
       "2       --       --       --       --       --       --       --       --   \n",
       "3       --       --       --       --       --       --       --       --   \n",
       "4       --       --       --       --       --       --       --       --   \n",
       "\n",
       "  Oct 2004 Nov 2004 Dec 2004 Jan 2005 Feb 2005 Mar 2005 Apr 2005 May 2005  \\\n",
       "0      NaN      NaN      NaN      NaN      NaN      NaN      NaN      NaN   \n",
       "1      NaN      NaN      NaN      NaN      NaN      NaN      NaN      NaN   \n",
       "2       --       --       --       --       --       --       --       --   \n",
       "3       --       --       --       --       --       --       --       --   \n",
       "4       --       --       --       --       --       --       --       --   \n",
       "\n",
       "  Jun 2005 Jul 2005 Aug 2005 Sep 2005 Oct 2005 Nov 2005 Dec 2005 Jan 2006  \\\n",
       "0      NaN      NaN      NaN      NaN      NaN      NaN      NaN      NaN   \n",
       "1      NaN      NaN      NaN      NaN      NaN      NaN      NaN      NaN   \n",
       "2       --       --       --       --       --       --       --       --   \n",
       "3       --       --       --       --       --       --       --       --   \n",
       "4       --       --       --       --       --       --       --       --   \n",
       "\n",
       "  Feb 2006 Mar 2006 Apr 2006 May 2006 Jun 2006 Jul 2006 Aug 2006 Sep 2006  \\\n",
       "0      NaN      NaN      NaN      NaN      NaN      NaN      NaN      NaN   \n",
       "1      NaN      NaN      NaN      NaN      NaN      NaN      NaN      NaN   \n",
       "2       --       --       --       --       --       --       --       --   \n",
       "3       --       --       --       --       --       --       --       --   \n",
       "4       --       --       --       --       --       --       --       --   \n",
       "\n",
       "  Oct 2006 Nov 2006 Dec 2006 Jan 2007 Feb 2007 Mar 2007 Apr 2007 May 2007  \\\n",
       "0      NaN      NaN      NaN      NaN      NaN      NaN      NaN      NaN   \n",
       "1      NaN      NaN      NaN      NaN      NaN      NaN      NaN      NaN   \n",
       "2       --       --       --       --       --       --       --       --   \n",
       "3       --       --       --       --       --       --       --       --   \n",
       "4       --       --       --       --       --       --       --       --   \n",
       "\n",
       "  Jun 2007 Jul 2007 Aug 2007 Sep 2007 Oct 2007 Nov 2007 Dec 2007 Jan 2008  \\\n",
       "0      NaN      NaN      NaN      NaN      NaN      NaN      NaN      NaN   \n",
       "1      NaN      NaN      NaN      NaN      NaN      NaN      NaN      NaN   \n",
       "2       --       --       --       --       --       --       --       --   \n",
       "3       --       --       --       --       --       --       --       --   \n",
       "4       --       --       --       --       --       --       --       --   \n",
       "\n",
       "  Feb 2008 Mar 2008 Apr 2008 May 2008 Jun 2008 Jul 2008 Aug 2008 Sep 2008  \\\n",
       "0      NaN      NaN      NaN      NaN      NaN      NaN      NaN      NaN   \n",
       "1      NaN      NaN      NaN      NaN      NaN      NaN      NaN      NaN   \n",
       "2       --       --       --       --       --       --       --       --   \n",
       "3       --       --       --       --       --       --       --       --   \n",
       "4       --       --       --       --       --       --       --       --   \n",
       "\n",
       "  Oct 2008 Nov 2008 Dec 2008 Jan 2009 Feb 2009 Mar 2009 Apr 2009 May 2009  \\\n",
       "0      NaN      NaN      NaN      NaN      NaN      NaN      NaN      NaN   \n",
       "1      NaN      NaN      NaN      NaN      NaN      NaN      NaN      NaN   \n",
       "2       --       --       --       --       --       --       --       --   \n",
       "3       --       --       --       --       --       --       --       --   \n",
       "4       --       --       --       --       --       --       --       --   \n",
       "\n",
       "  Jun 2009 Jul 2009 Aug 2009 Sep 2009 Oct 2009 Nov 2009 Dec 2009 Jan 2010  \\\n",
       "0      NaN      NaN      NaN      NaN      NaN      NaN      NaN      NaN   \n",
       "1      NaN      NaN      NaN      NaN      NaN      NaN      NaN      NaN   \n",
       "2       --       --       --       --       --       --       --       --   \n",
       "3       --       --       --       --       --       --       --       --   \n",
       "4       --       --       --       --       --       --       --       --   \n",
       "\n",
       "  Feb 2010 Mar 2010 Apr 2010 May 2010 Jun 2010 Jul 2010 Aug 2010 Sep 2010  \\\n",
       "0      NaN      NaN      NaN      NaN      NaN      NaN      NaN      NaN   \n",
       "1      NaN      NaN      NaN      NaN      NaN      NaN      NaN      NaN   \n",
       "2       --       --       --       --       --       --       --       --   \n",
       "3       --       --       --       --       --       --       --       --   \n",
       "4       --       --       --       --       --       --       --       --   \n",
       "\n",
       "  Oct 2010 Nov 2010 Dec 2010 Jan 2011 Feb 2011 Mar 2011 Apr 2011 May 2011  \\\n",
       "0      NaN      NaN      NaN      NaN      NaN      NaN      NaN      NaN   \n",
       "1      NaN      NaN      NaN      NaN      NaN      NaN      NaN      NaN   \n",
       "2       --       --       --       --       --       --       --       --   \n",
       "3       --       --       --       --       --       --       --       --   \n",
       "4       --       --       --       --       --       --       --       --   \n",
       "\n",
       "  Jun 2011 Jul 2011 Aug 2011 Sep 2011 Oct 2011 Nov 2011 Dec 2011 Jan 2012  \\\n",
       "0      NaN      NaN      NaN      NaN      NaN      NaN      NaN      NaN   \n",
       "1      NaN      NaN      NaN      NaN      NaN      NaN      NaN      NaN   \n",
       "2       --       --       --       --       --       --       --       --   \n",
       "3       --       --       --       --       --       --       --       --   \n",
       "4       --       --       --       --       --       --       --       --   \n",
       "\n",
       "  Feb 2012 Mar 2012 Apr 2012 May 2012 Jun 2012 Jul 2012 Aug 2012 Sep 2012  \\\n",
       "0      NaN      NaN      NaN      NaN      NaN      NaN      NaN      NaN   \n",
       "1      NaN      NaN      NaN      NaN      NaN      NaN      NaN      NaN   \n",
       "2       --       --       --       --       --       --       --       --   \n",
       "3       --       --       --       --       --       --       --       --   \n",
       "4       --       --       --       --       --       --       --       --   \n",
       "\n",
       "  Oct 2012 Nov 2012 Dec 2012 Jan 2013 Feb 2013 Mar 2013 Apr 2013 May 2013  \\\n",
       "0      NaN      NaN      NaN      NaN      NaN      NaN      NaN      NaN   \n",
       "1      NaN      NaN      NaN      NaN      NaN      NaN      NaN      NaN   \n",
       "2       --       --       --       --       --       --       --       --   \n",
       "3       --       --       --       --       --       --       --       --   \n",
       "4       --       --       --       --       --       --       --       --   \n",
       "\n",
       "  Jun 2013 Jul 2013 Aug 2013 Sep 2013 Oct 2013 Nov 2013 Dec 2013 Jan 2014  \\\n",
       "0      NaN      NaN      NaN      NaN      NaN      NaN      NaN      NaN   \n",
       "1      NaN      NaN      NaN      NaN      NaN      NaN      NaN      NaN   \n",
       "2       --       --       --       --       --       --       --     1375   \n",
       "3       --       --       --       --       --       --       --       51   \n",
       "4       --       --       --       --       --       --       --        7   \n",
       "\n",
       "  Feb 2014 Mar 2014 Apr 2014 May 2014 Jun 2014 Jul 2014 Aug 2014 Sep 2014  \\\n",
       "0      NaN      NaN      NaN      NaN      NaN      NaN      NaN      NaN   \n",
       "1      NaN      NaN      NaN      NaN      NaN      NaN      NaN      NaN   \n",
       "2     1499     2224     2476     2842     3024     2936     3019     2879   \n",
       "3       59       83       95      112      116      124      136      127   \n",
       "4        8       11       12       13       14       15       15       14   \n",
       "\n",
       "  Oct 2014 Nov 2014 Dec 2014 Jan 2015 Feb 2015 Mar 2015 Apr 2015 May 2015  \\\n",
       "0      NaN      NaN      NaN      NaN      NaN      NaN      NaN      NaN   \n",
       "1      NaN      NaN      NaN      NaN      NaN      NaN      NaN      NaN   \n",
       "2     2682     2171     1798     1902     2299     3206     3643     3898   \n",
       "3      109       84       79       83       96      136      155      169   \n",
       "4       12        9       10       10       11       16       19       21   \n",
       "\n",
       "  Jun 2015 Jul 2015 Aug 2015 Sep 2015 Oct 2015 Nov 2015 Dec 2015  Jan 2016  \\\n",
       "0      NaN      NaN      NaN      NaN      NaN      NaN      NaN       NaN   \n",
       "1      NaN      NaN      NaN      NaN      NaN      NaN      NaN       NaN   \n",
       "2     3966     4114     4156     3547     3107     2712     2484    2465.0   \n",
       "3      169      188      187      166      137      111      107     117.0   \n",
       "4       21       25       24       22       18       14       14      17.0   \n",
       "\n",
       "   Feb 2016 Mar 2016 Apr 2016 May 2016 Jun 2016 Jul 2016 Aug 2016 Sep 2016  \\\n",
       "0       NaN      NaN      NaN      NaN      NaN      NaN      NaN      NaN   \n",
       "1       NaN      NaN      NaN      NaN      NaN      NaN      NaN      NaN   \n",
       "2    3386.0     4143     4583     5304     5401     5945     5911     5370   \n",
       "3     162.0      193      220      247      252      274      268      241   \n",
       "4      20.0       28       31       34       36       39       38       33   \n",
       "\n",
       "  Oct 2016 Nov 2016 Dec 2016 Jan 2017 Feb 2017 Mar 2017 Apr 2017 May 2017  \\\n",
       "0      NaN      NaN      NaN      NaN      NaN      NaN      NaN      NaN   \n",
       "1      NaN      NaN      NaN      NaN      NaN      NaN      NaN      NaN   \n",
       "2     4743     4024     3591     3570     4135     6487     7102     8208   \n",
       "3      195      154      145      146      190      265      295      313   \n",
       "4       27       21       21       21       27       37       42       45   \n",
       "\n",
       "  Jun 2017 Jul 2017 Aug 2017 Sep 2017 Oct 2017 Nov 2017 Dec 2017 Jan 2018  \\\n",
       "0      NaN      NaN      NaN      NaN      NaN      NaN      NaN      NaN   \n",
       "1      NaN      NaN      NaN      NaN      NaN      NaN      NaN      NaN   \n",
       "2     8602     8124     7848     7285     6640     4770     4507     4938   \n",
       "3      344      361      355      303      252      178      163      212   \n",
       "4       48       52       49       42       34       25       23       29   \n",
       "\n",
       "  Feb 2018 Mar 2018 Apr 2018 May 2018 Jun 2018 Jul 2018 Aug 2018 Sep 2018  \\\n",
       "0      NaN      NaN      NaN      NaN      NaN      NaN      NaN      NaN   \n",
       "1      NaN      NaN      NaN      NaN      NaN      NaN      NaN      NaN   \n",
       "2     5663     7490     8796     9860    10474     9901     9712     8635   \n",
       "3      247      356      400      456      456      503      449      354   \n",
       "4       33       51       56       63       63       68       61       49   \n",
       "\n",
       "  Oct 2018 Nov 2018 Dec 2018 Jan 2019 Feb 2019 Mar 2019 Apr 2019 May 2019  \\\n",
       "0      NaN      NaN      NaN      NaN      NaN      NaN      NaN      NaN   \n",
       "1      NaN      NaN      NaN      NaN      NaN      NaN      NaN      NaN   \n",
       "2     7361     5648     4885     5483     5895     8813     9997    10711   \n",
       "3      302      210      259      256      296      413      450      481   \n",
       "4       43       32       57       39       46       63       69       75   \n",
       "\n",
       "  Jun 2019 Jul 2019 Aug 2019 Sep 2019 Oct 2019 Nov 2019 Dec 2019 Jan 2020  \\\n",
       "0      NaN      NaN      NaN      NaN      NaN      NaN      NaN      NaN   \n",
       "1      NaN      NaN      NaN      NaN      NaN      NaN      NaN      NaN   \n",
       "2    11575    11893    11488    10022     8926     6592     5500     6771   \n",
       "3      505      568      515      460      338      260      225      295   \n",
       "4       78       87       80       71       52       41       37       49   \n",
       "\n",
       "  Feb 2020 Mar 2020 Apr 2020 May 2020 Jun 2020 Jul 2020 Aug 2020 Sep 2020  \\\n",
       "0      NaN      NaN      NaN      NaN      NaN      NaN      NaN      NaN   \n",
       "1      NaN      NaN      NaN      NaN      NaN      NaN      NaN      NaN   \n",
       "2     8184     9774    11736    13921    13923    15015    13514    11454   \n",
       "3      367      514      537      655      637      658      616      536   \n",
       "4       60       83       86      106      104      108       99       88   \n",
       "\n",
       "  Oct 2020 Nov 2020 Dec 2020 Jan 2021 Feb 2021 Mar 2021 Apr 2021 May 2021  \\\n",
       "0      NaN      NaN      NaN      NaN      NaN      NaN      NaN      NaN   \n",
       "1      NaN      NaN      NaN      NaN      NaN      NaN      NaN      NaN   \n",
       "2    10395     8453     7580     8309     9270    13454    15502    17520   \n",
       "3      407      304      280      348      348      669      658      758   \n",
       "4       67       52       47       59       58      107      106      125   \n",
       "\n",
       "  Jun 2021 Jul 2021 Aug 2021 Sep 2021 Oct 2021 Nov 2021  Dec 2021 Jan 2022  \\\n",
       "0      NaN      NaN      NaN      NaN      NaN      NaN       NaN      NaN   \n",
       "1      NaN      NaN      NaN      NaN      NaN      NaN       NaN      NaN   \n",
       "2    17304    17384    16891    15584    13089    11054    9061.0    11418   \n",
       "3      783      720      694      609      465      412     307.0      452   \n",
       "4      128      119      112      103       81       72      58.0       69   \n",
       "\n",
       "  Feb 2022 Mar 2022 Apr 2022 May 2022 Jun 2022 Jul 2022 Aug 2022 Sep 2022  \\\n",
       "0      NaN      NaN      NaN      NaN      NaN      NaN      NaN      NaN   \n",
       "1      NaN      NaN      NaN      NaN      NaN      NaN      NaN      NaN   \n",
       "2    12910    16798    18885    21145    21998    21907    20352    18786   \n",
       "3      525      716      817      896      914      952      885      794   \n",
       "4       86      121      138      150      152      159      146      126   \n",
       "\n",
       "  Oct 2022 Nov 2022 Dec 2022  \n",
       "0      NaN      NaN      NaN  \n",
       "1      NaN      NaN      NaN  \n",
       "2    17042    12336    10534  \n",
       "3      671      471      424  \n",
       "4      105       77       69  "
      ]
     },
     "execution_count": 3,
     "metadata": {},
     "output_type": "execute_result"
    }
   ],
   "source": [
    "#Import our data and preview the first five rows\n",
    "\n",
    "#ALL SOLAR DATAFRAME\n",
    "full_solar_df = \\\n",
    "pd.read_csv('/Users/Aidan/Documents/Flatiron/Phase_4/Solar_Power_Output_Time_Series/data/Net_generation_for_all_solar.csv',\n",
    "            skiprows=4)\n",
    "\n",
    "full_solar_df.head()"
   ]
  },
  {
   "cell_type": "markdown",
   "metadata": {},
   "source": [
    "I had to skip the first 4 rows as our column headers did not start until row 5."
   ]
  },
  {
   "cell_type": "markdown",
   "metadata": {},
   "source": [
    "We do not need the first two rows so let's drop them."
   ]
  },
  {
   "cell_type": "code",
   "execution_count": 4,
   "metadata": {},
   "outputs": [],
   "source": [
    "full_solar_df = full_solar_df.loc[2:,:]"
   ]
  },
  {
   "cell_type": "code",
   "execution_count": 5,
   "metadata": {},
   "outputs": [
    {
     "data": {
      "text/plain": [
       "(62, 267)"
      ]
     },
     "execution_count": 5,
     "metadata": {},
     "output_type": "execute_result"
    }
   ],
   "source": [
    "full_solar_df.shape"
   ]
  },
  {
   "cell_type": "markdown",
   "metadata": {},
   "source": [
    "Currently we have 62 entries. Eventually we will split our data into individual dataframes (one for each US State, one for each US Region, and one for the entire United States)."
   ]
  },
  {
   "cell_type": "code",
   "execution_count": 6,
   "metadata": {},
   "outputs": [
    {
     "data": {
      "text/plain": [
       "Index(['description', 'units', 'source key', 'Jan 2001', 'Feb 2001',\n",
       "       'Mar 2001', 'Apr 2001', 'May 2001', 'Jun 2001', 'Jul 2001',\n",
       "       ...\n",
       "       'Mar 2022', 'Apr 2022', 'May 2022', 'Jun 2022', 'Jul 2022', 'Aug 2022',\n",
       "       'Sep 2022', 'Oct 2022', 'Nov 2022', 'Dec 2022'],\n",
       "      dtype='object', length=267)"
      ]
     },
     "execution_count": 6,
     "metadata": {},
     "output_type": "execute_result"
    }
   ],
   "source": [
    "full_solar_df.columns"
   ]
  },
  {
   "cell_type": "markdown",
   "metadata": {},
   "source": [
    "The 264 columns (starting with Jan 2001) will become our date time index."
   ]
  },
  {
   "cell_type": "markdown",
   "metadata": {},
   "source": [
    "Let's separate our `full_solar_df` into individual dataframes."
   ]
  },
  {
   "cell_type": "code",
   "execution_count": 7,
   "metadata": {},
   "outputs": [],
   "source": [
    "# for i, location in enumerate(full_solar_df['Location']):\n",
    "# #     print(i, location)\n",
    "#     location_solar_df = full_solar_df[full_solar_df['Location'] == location]\\\n",
    "#     .drop(['Location','units', 'source key'], axis =1).T\n",
    "#     print(location_solar_df)"
   ]
  },
  {
   "cell_type": "code",
   "execution_count": 8,
   "metadata": {},
   "outputs": [],
   "source": [
    "# def preprocess_solar(full_solar_df):\n",
    "#     for location in full_solar_df['Location']:\n",
    "#         location_solar_df = full_solar_df[full_solar_df['Location'] == location]\\\n",
    "#         .drop(['Location','units', 'source key'], axis =1).T\n",
    "        \n",
    "#         location_solar_df.index = pd.to_datetime(location_solar_df.index, format=\"%b %Y\")\n",
    "        \n",
    "#         location_solar_df.rename(columns = {location_solar_df.columns[0]:'Solar Output (tmwh)'}, inplace=True)\n",
    "        \n",
    "#         location_solar_df['Solar Output (tmwh)'] = location_solar_df['Solar Output (tmwh)'].astype(int)\n",
    "#         location_solar_df = location_solar_df.loc['2014-01-01':]\n",
    "                          \n",
    "#     print(location_solar_df)\n",
    "    \n",
    "#     return location_solar_df"
   ]
  },
  {
   "cell_type": "markdown",
   "metadata": {},
   "source": [
    "Clean up `description` column"
   ]
  },
  {
   "cell_type": "code",
   "execution_count": 9,
   "metadata": {},
   "outputs": [],
   "source": [
    "#Remove \"All Sectors : \" from place name in the description column\n",
    "full_solar_df['Location'] = [i[14:] for i in full_solar_df['description']]\n",
    "\n",
    "#Drop the old 'description column', bring our new column to the left of our dataframe, and reset the index\n",
    "full_solar_df = full_solar_df.drop('description', axis=1).set_index('Location').reset_index()"
   ]
  },
  {
   "cell_type": "markdown",
   "metadata": {},
   "source": [
    "####  US Dataframe"
   ]
  },
  {
   "cell_type": "code",
   "execution_count": 10,
   "metadata": {},
   "outputs": [],
   "source": [
    "#Create a new dataframe using only the United States row, drop non-date columns, and transpose our dataframe\n",
    "us_solar_df = full_solar_df[full_solar_df['Location'] == \"United States\"]\\\n",
    ".drop(['Location','units', 'source key'], axis =1).T"
   ]
  },
  {
   "cell_type": "code",
   "execution_count": 11,
   "metadata": {
    "scrolled": true
   },
   "outputs": [],
   "source": [
    "#Turn our new index of dates into datetime datatypes\n",
    "us_solar_df.index = pd.to_datetime(us_solar_df.index, format=\"%b %Y\")"
   ]
  },
  {
   "cell_type": "code",
   "execution_count": 12,
   "metadata": {},
   "outputs": [],
   "source": [
    "#Rename our column with our values to Solar Output (thousand megawatthours)\n",
    "us_solar_df.rename(columns = {0:'Solar Output (tmwh)'}, inplace=True)"
   ]
  },
  {
   "cell_type": "code",
   "execution_count": 13,
   "metadata": {
    "scrolled": true
   },
   "outputs": [
    {
     "data": {
      "text/plain": [
       "Index(['Solar Output (tmwh)'], dtype='object')"
      ]
     },
     "execution_count": 13,
     "metadata": {},
     "output_type": "execute_result"
    }
   ],
   "source": [
    "#It looks like our column is properly labelled but its datatype is an object rather than number\n",
    "us_solar_df.columns"
   ]
  },
  {
   "cell_type": "code",
   "execution_count": 14,
   "metadata": {},
   "outputs": [
    {
     "data": {
      "text/plain": [
       "2001-01-01        0\n",
       "2001-02-01        0\n",
       "2001-03-01        0\n",
       "2001-04-01        0\n",
       "2001-05-01        0\n",
       "              ...  \n",
       "2022-08-01    20352\n",
       "2022-09-01    18786\n",
       "2022-10-01    17042\n",
       "2022-11-01    12336\n",
       "2022-12-01    10534\n",
       "Name: Solar Output (tmwh), Length: 264, dtype: object"
      ]
     },
     "execution_count": 14,
     "metadata": {},
     "output_type": "execute_result"
    }
   ],
   "source": [
    "#Replace \"--\"  values meaning no Solar Ouput with 0\n",
    "us_solar_df['Solar Output (tmwh)'].replace(to_replace='--', value=0, inplace=True)\n",
    "\n",
    "#Check to see if we now have zeros instead of hyphens\n",
    "us_solar_df['Solar Output (tmwh)']"
   ]
  },
  {
   "cell_type": "code",
   "execution_count": 15,
   "metadata": {},
   "outputs": [],
   "source": [
    "#Changing our Solar Output column into integer datatypes\n",
    "us_solar_df['Solar Output (tmwh)'] = us_solar_df['Solar Output (tmwh)'].astype(int)"
   ]
  },
  {
   "cell_type": "code",
   "execution_count": 16,
   "metadata": {},
   "outputs": [
    {
     "data": {
      "text/html": [
       "<div>\n",
       "<style scoped>\n",
       "    .dataframe tbody tr th:only-of-type {\n",
       "        vertical-align: middle;\n",
       "    }\n",
       "\n",
       "    .dataframe tbody tr th {\n",
       "        vertical-align: top;\n",
       "    }\n",
       "\n",
       "    .dataframe thead th {\n",
       "        text-align: right;\n",
       "    }\n",
       "</style>\n",
       "<table border=\"1\" class=\"dataframe\">\n",
       "  <thead>\n",
       "    <tr style=\"text-align: right;\">\n",
       "      <th></th>\n",
       "      <th>Solar Output (tmwh)</th>\n",
       "    </tr>\n",
       "  </thead>\n",
       "  <tbody>\n",
       "    <tr>\n",
       "      <th>2001-01-01</th>\n",
       "      <td>0</td>\n",
       "    </tr>\n",
       "    <tr>\n",
       "      <th>2001-02-01</th>\n",
       "      <td>0</td>\n",
       "    </tr>\n",
       "    <tr>\n",
       "      <th>2001-03-01</th>\n",
       "      <td>0</td>\n",
       "    </tr>\n",
       "    <tr>\n",
       "      <th>2001-04-01</th>\n",
       "      <td>0</td>\n",
       "    </tr>\n",
       "    <tr>\n",
       "      <th>2001-05-01</th>\n",
       "      <td>0</td>\n",
       "    </tr>\n",
       "    <tr>\n",
       "      <th>...</th>\n",
       "      <td>...</td>\n",
       "    </tr>\n",
       "    <tr>\n",
       "      <th>2022-08-01</th>\n",
       "      <td>20352</td>\n",
       "    </tr>\n",
       "    <tr>\n",
       "      <th>2022-09-01</th>\n",
       "      <td>18786</td>\n",
       "    </tr>\n",
       "    <tr>\n",
       "      <th>2022-10-01</th>\n",
       "      <td>17042</td>\n",
       "    </tr>\n",
       "    <tr>\n",
       "      <th>2022-11-01</th>\n",
       "      <td>12336</td>\n",
       "    </tr>\n",
       "    <tr>\n",
       "      <th>2022-12-01</th>\n",
       "      <td>10534</td>\n",
       "    </tr>\n",
       "  </tbody>\n",
       "</table>\n",
       "<p>264 rows × 1 columns</p>\n",
       "</div>"
      ],
      "text/plain": [
       "            Solar Output (tmwh)\n",
       "2001-01-01                    0\n",
       "2001-02-01                    0\n",
       "2001-03-01                    0\n",
       "2001-04-01                    0\n",
       "2001-05-01                    0\n",
       "...                         ...\n",
       "2022-08-01                20352\n",
       "2022-09-01                18786\n",
       "2022-10-01                17042\n",
       "2022-11-01                12336\n",
       "2022-12-01                10534\n",
       "\n",
       "[264 rows x 1 columns]"
      ]
     },
     "execution_count": 16,
     "metadata": {},
     "output_type": "execute_result"
    }
   ],
   "source": [
    "#View our fully transformed dataframe\n",
    "us_solar_df"
   ]
  },
  {
   "cell_type": "code",
   "execution_count": 17,
   "metadata": {},
   "outputs": [
    {
     "data": {
      "image/png": "[encoded data removed]",
      "text/plain": [
       "<Figure size 1440x432 with 1 Axes>"
      ]
     },
     "metadata": {
      "needs_background": "light"
     },
     "output_type": "display_data"
    }
   ],
   "source": [
    "# Let's plot our new dataframe to see what our data looks like\n",
    "us_solar_df.plot(figsize = (20,6));"
   ]
  },
  {
   "cell_type": "markdown",
   "metadata": {},
   "source": [
    "There doesn't seem to be any solar power output in the US before 2014. Let's zoom in to our data after that point. "
   ]
  },
  {
   "cell_type": "code",
   "execution_count": 18,
   "metadata": {
    "scrolled": true
   },
   "outputs": [
    {
     "data": {
      "image/png": "[encoded data removed]",
      "text/plain": [
       "<Figure size 1440x432 with 1 Axes>"
      ]
     },
     "metadata": {
      "needs_background": "light"
     },
     "output_type": "display_data"
    }
   ],
   "source": [
    "#New dataframe limited to Jan 2014 and afterwards.\n",
    "us_solar_df = us_solar_df.loc['2014-01-01':]\n",
    "\n",
    "#Plot our data\n",
    "us_solar_df.plot(figsize = (20,6));"
   ]
  },
  {
   "cell_type": "code",
   "execution_count": 19,
   "metadata": {},
   "outputs": [
    {
     "data": {
      "image/png": "[encoded data removed]",
      "text/plain": [
       "<Figure size 1584x576 with 1 Axes>"
      ]
     },
     "metadata": {
      "needs_background": "light"
     },
     "output_type": "display_data"
    }
   ],
   "source": [
    "# Plot a density plot for US Solar dataset\n",
    "us_solar_df.plot(figsize = (22,8), kind='kde');"
   ]
  },
  {
   "cell_type": "code",
   "execution_count": 20,
   "metadata": {},
   "outputs": [
    {
     "data": {
      "image/png": "[encoded data removed]",
      "text/plain": [
       "<Figure size 1152x144 with 1 Axes>"
      ]
     },
     "metadata": {
      "needs_background": "light"
     },
     "output_type": "display_data"
    }
   ],
   "source": [
    "# Transpose the DataFrame\n",
    "us_year_matrix = us_solar_df.T\n",
    "\n",
    "# Draw a heatmap with matshow()\n",
    "plt.matshow(us_year_matrix, aspect='auto', cmap=plt.cm.Spectral_r);"
   ]
  },
  {
   "cell_type": "code",
   "execution_count": null,
   "metadata": {},
   "outputs": [],
   "source": []
  },
  {
   "cell_type": "code",
   "execution_count": null,
   "metadata": {},
   "outputs": [],
   "source": []
  },
  {
   "cell_type": "markdown",
   "metadata": {},
   "source": [
    "#### NY State Dataframe"
   ]
  },
  {
   "cell_type": "code",
   "execution_count": 21,
   "metadata": {},
   "outputs": [],
   "source": [
    "ny_solar_df = full_solar_df[full_solar_df['Location'] == \"New York\"]\\\n",
    ".drop(['Location','units', 'source key'], axis =1).T"
   ]
  },
  {
   "cell_type": "code",
   "execution_count": 22,
   "metadata": {},
   "outputs": [
    {
     "data": {
      "text/html": [
       "<div>\n",
       "<style scoped>\n",
       "    .dataframe tbody tr th:only-of-type {\n",
       "        vertical-align: middle;\n",
       "    }\n",
       "\n",
       "    .dataframe tbody tr th {\n",
       "        vertical-align: top;\n",
       "    }\n",
       "\n",
       "    .dataframe thead th {\n",
       "        text-align: right;\n",
       "    }\n",
       "</style>\n",
       "<table border=\"1\" class=\"dataframe\">\n",
       "  <thead>\n",
       "    <tr style=\"text-align: right;\">\n",
       "      <th></th>\n",
       "      <th>10</th>\n",
       "    </tr>\n",
       "  </thead>\n",
       "  <tbody>\n",
       "    <tr>\n",
       "      <th>Jan 2001</th>\n",
       "      <td>--</td>\n",
       "    </tr>\n",
       "    <tr>\n",
       "      <th>Feb 2001</th>\n",
       "      <td>--</td>\n",
       "    </tr>\n",
       "    <tr>\n",
       "      <th>Mar 2001</th>\n",
       "      <td>--</td>\n",
       "    </tr>\n",
       "    <tr>\n",
       "      <th>Apr 2001</th>\n",
       "      <td>--</td>\n",
       "    </tr>\n",
       "    <tr>\n",
       "      <th>May 2001</th>\n",
       "      <td>--</td>\n",
       "    </tr>\n",
       "    <tr>\n",
       "      <th>...</th>\n",
       "      <td>...</td>\n",
       "    </tr>\n",
       "    <tr>\n",
       "      <th>Aug 2022</th>\n",
       "      <td>573</td>\n",
       "    </tr>\n",
       "    <tr>\n",
       "      <th>Sep 2022</th>\n",
       "      <td>512</td>\n",
       "    </tr>\n",
       "    <tr>\n",
       "      <th>Oct 2022</th>\n",
       "      <td>434</td>\n",
       "    </tr>\n",
       "    <tr>\n",
       "      <th>Nov 2022</th>\n",
       "      <td>302</td>\n",
       "    </tr>\n",
       "    <tr>\n",
       "      <th>Dec 2022</th>\n",
       "      <td>280</td>\n",
       "    </tr>\n",
       "  </tbody>\n",
       "</table>\n",
       "<p>264 rows × 1 columns</p>\n",
       "</div>"
      ],
      "text/plain": [
       "           10\n",
       "Jan 2001   --\n",
       "Feb 2001   --\n",
       "Mar 2001   --\n",
       "Apr 2001   --\n",
       "May 2001   --\n",
       "...       ...\n",
       "Aug 2022  573\n",
       "Sep 2022  512\n",
       "Oct 2022  434\n",
       "Nov 2022  302\n",
       "Dec 2022  280\n",
       "\n",
       "[264 rows x 1 columns]"
      ]
     },
     "execution_count": 22,
     "metadata": {},
     "output_type": "execute_result"
    }
   ],
   "source": [
    "ny_solar_df"
   ]
  },
  {
   "cell_type": "code",
   "execution_count": 23,
   "metadata": {},
   "outputs": [],
   "source": [
    "ny_solar_df.index = pd.to_datetime(ny_solar_df.index, format=\"%b %Y\")"
   ]
  },
  {
   "cell_type": "code",
   "execution_count": 24,
   "metadata": {},
   "outputs": [],
   "source": [
    "ny_solar_df.rename(columns = {10:'Solar Output (tmwh)'}, inplace=True)"
   ]
  },
  {
   "cell_type": "code",
   "execution_count": 25,
   "metadata": {},
   "outputs": [
    {
     "data": {
      "text/plain": [
       "Index(['Solar Output (tmwh)'], dtype='object')"
      ]
     },
     "execution_count": 25,
     "metadata": {},
     "output_type": "execute_result"
    }
   ],
   "source": [
    "ny_solar_df.columns"
   ]
  },
  {
   "cell_type": "code",
   "execution_count": 26,
   "metadata": {
    "scrolled": true
   },
   "outputs": [
    {
     "data": {
      "text/html": [
       "<div>\n",
       "<style scoped>\n",
       "    .dataframe tbody tr th:only-of-type {\n",
       "        vertical-align: middle;\n",
       "    }\n",
       "\n",
       "    .dataframe tbody tr th {\n",
       "        vertical-align: top;\n",
       "    }\n",
       "\n",
       "    .dataframe thead th {\n",
       "        text-align: right;\n",
       "    }\n",
       "</style>\n",
       "<table border=\"1\" class=\"dataframe\">\n",
       "  <thead>\n",
       "    <tr style=\"text-align: right;\">\n",
       "      <th></th>\n",
       "      <th>Solar Output (tmwh)</th>\n",
       "    </tr>\n",
       "  </thead>\n",
       "  <tbody>\n",
       "    <tr>\n",
       "      <th>2001-01-01</th>\n",
       "      <td>--</td>\n",
       "    </tr>\n",
       "    <tr>\n",
       "      <th>2001-02-01</th>\n",
       "      <td>--</td>\n",
       "    </tr>\n",
       "    <tr>\n",
       "      <th>2001-03-01</th>\n",
       "      <td>--</td>\n",
       "    </tr>\n",
       "    <tr>\n",
       "      <th>2001-04-01</th>\n",
       "      <td>--</td>\n",
       "    </tr>\n",
       "    <tr>\n",
       "      <th>2001-05-01</th>\n",
       "      <td>--</td>\n",
       "    </tr>\n",
       "    <tr>\n",
       "      <th>...</th>\n",
       "      <td>...</td>\n",
       "    </tr>\n",
       "    <tr>\n",
       "      <th>2022-08-01</th>\n",
       "      <td>573</td>\n",
       "    </tr>\n",
       "    <tr>\n",
       "      <th>2022-09-01</th>\n",
       "      <td>512</td>\n",
       "    </tr>\n",
       "    <tr>\n",
       "      <th>2022-10-01</th>\n",
       "      <td>434</td>\n",
       "    </tr>\n",
       "    <tr>\n",
       "      <th>2022-11-01</th>\n",
       "      <td>302</td>\n",
       "    </tr>\n",
       "    <tr>\n",
       "      <th>2022-12-01</th>\n",
       "      <td>280</td>\n",
       "    </tr>\n",
       "  </tbody>\n",
       "</table>\n",
       "<p>264 rows × 1 columns</p>\n",
       "</div>"
      ],
      "text/plain": [
       "           Solar Output (tmwh)\n",
       "2001-01-01                  --\n",
       "2001-02-01                  --\n",
       "2001-03-01                  --\n",
       "2001-04-01                  --\n",
       "2001-05-01                  --\n",
       "...                        ...\n",
       "2022-08-01                 573\n",
       "2022-09-01                 512\n",
       "2022-10-01                 434\n",
       "2022-11-01                 302\n",
       "2022-12-01                 280\n",
       "\n",
       "[264 rows x 1 columns]"
      ]
     },
     "execution_count": 26,
     "metadata": {},
     "output_type": "execute_result"
    }
   ],
   "source": [
    "ny_solar_df"
   ]
  },
  {
   "cell_type": "code",
   "execution_count": 27,
   "metadata": {
    "scrolled": true
   },
   "outputs": [
    {
     "name": "stdout",
     "output_type": "stream",
     "text": [
      "<class 'pandas.core.frame.DataFrame'>\n",
      "DatetimeIndex: 264 entries, 2001-01-01 to 2022-12-01\n",
      "Data columns (total 1 columns):\n",
      " #   Column               Non-Null Count  Dtype \n",
      "---  ------               --------------  ----- \n",
      " 0   Solar Output (tmwh)  264 non-null    object\n",
      "dtypes: object(1)\n",
      "memory usage: 4.1+ KB\n"
     ]
    }
   ],
   "source": [
    "ny_solar_df.info()"
   ]
  },
  {
   "cell_type": "code",
   "execution_count": 28,
   "metadata": {},
   "outputs": [
    {
     "data": {
      "text/plain": [
       "2001-01-01      0\n",
       "2001-02-01      0\n",
       "2001-03-01      0\n",
       "2001-04-01      0\n",
       "2001-05-01      0\n",
       "             ... \n",
       "2022-08-01    573\n",
       "2022-09-01    512\n",
       "2022-10-01    434\n",
       "2022-11-01    302\n",
       "2022-12-01    280\n",
       "Name: Solar Output (tmwh), Length: 264, dtype: object"
      ]
     },
     "execution_count": 28,
     "metadata": {},
     "output_type": "execute_result"
    }
   ],
   "source": [
    "ny_solar_df['Solar Output (tmwh)'].replace(to_replace='--', value=0, inplace=True)\n",
    "\n",
    "ny_solar_df['Solar Output (tmwh)']"
   ]
  },
  {
   "cell_type": "code",
   "execution_count": 29,
   "metadata": {},
   "outputs": [],
   "source": [
    "ny_solar_df['Solar Output (tmwh)'] = ny_solar_df['Solar Output (tmwh)'].astype(int)"
   ]
  },
  {
   "cell_type": "code",
   "execution_count": 30,
   "metadata": {},
   "outputs": [
    {
     "data": {
      "text/html": [
       "<div>\n",
       "<style scoped>\n",
       "    .dataframe tbody tr th:only-of-type {\n",
       "        vertical-align: middle;\n",
       "    }\n",
       "\n",
       "    .dataframe tbody tr th {\n",
       "        vertical-align: top;\n",
       "    }\n",
       "\n",
       "    .dataframe thead th {\n",
       "        text-align: right;\n",
       "    }\n",
       "</style>\n",
       "<table border=\"1\" class=\"dataframe\">\n",
       "  <thead>\n",
       "    <tr style=\"text-align: right;\">\n",
       "      <th></th>\n",
       "      <th>Solar Output (tmwh)</th>\n",
       "    </tr>\n",
       "  </thead>\n",
       "  <tbody>\n",
       "    <tr>\n",
       "      <th>2001-01-01</th>\n",
       "      <td>0</td>\n",
       "    </tr>\n",
       "    <tr>\n",
       "      <th>2001-02-01</th>\n",
       "      <td>0</td>\n",
       "    </tr>\n",
       "    <tr>\n",
       "      <th>2001-03-01</th>\n",
       "      <td>0</td>\n",
       "    </tr>\n",
       "    <tr>\n",
       "      <th>2001-04-01</th>\n",
       "      <td>0</td>\n",
       "    </tr>\n",
       "    <tr>\n",
       "      <th>2001-05-01</th>\n",
       "      <td>0</td>\n",
       "    </tr>\n",
       "    <tr>\n",
       "      <th>...</th>\n",
       "      <td>...</td>\n",
       "    </tr>\n",
       "    <tr>\n",
       "      <th>2022-08-01</th>\n",
       "      <td>573</td>\n",
       "    </tr>\n",
       "    <tr>\n",
       "      <th>2022-09-01</th>\n",
       "      <td>512</td>\n",
       "    </tr>\n",
       "    <tr>\n",
       "      <th>2022-10-01</th>\n",
       "      <td>434</td>\n",
       "    </tr>\n",
       "    <tr>\n",
       "      <th>2022-11-01</th>\n",
       "      <td>302</td>\n",
       "    </tr>\n",
       "    <tr>\n",
       "      <th>2022-12-01</th>\n",
       "      <td>280</td>\n",
       "    </tr>\n",
       "  </tbody>\n",
       "</table>\n",
       "<p>264 rows × 1 columns</p>\n",
       "</div>"
      ],
      "text/plain": [
       "            Solar Output (tmwh)\n",
       "2001-01-01                    0\n",
       "2001-02-01                    0\n",
       "2001-03-01                    0\n",
       "2001-04-01                    0\n",
       "2001-05-01                    0\n",
       "...                         ...\n",
       "2022-08-01                  573\n",
       "2022-09-01                  512\n",
       "2022-10-01                  434\n",
       "2022-11-01                  302\n",
       "2022-12-01                  280\n",
       "\n",
       "[264 rows x 1 columns]"
      ]
     },
     "execution_count": 30,
     "metadata": {},
     "output_type": "execute_result"
    }
   ],
   "source": [
    "ny_solar_df"
   ]
  },
  {
   "cell_type": "code",
   "execution_count": 31,
   "metadata": {
    "scrolled": true
   },
   "outputs": [
    {
     "data": {
      "image/png": "[encoded data removed]",
      "text/plain": [
       "<Figure size 1440x432 with 1 Axes>"
      ]
     },
     "metadata": {
      "needs_background": "light"
     },
     "output_type": "display_data"
    }
   ],
   "source": [
    "ny_solar_df.plot(figsize = (20,6));"
   ]
  },
  {
   "cell_type": "code",
   "execution_count": 32,
   "metadata": {},
   "outputs": [
    {
     "data": {
      "image/png": "[encoded data removed]",
      "text/plain": [
       "<Figure size 1440x432 with 1 Axes>"
      ]
     },
     "metadata": {
      "needs_background": "light"
     },
     "output_type": "display_data"
    }
   ],
   "source": [
    "#New dataframe limited to Jan 2014 and afterwards.\n",
    "ny_solar_df = ny_solar_df.loc['2014-01-01':]\n",
    "\n",
    "#Plot our data\n",
    "ny_solar_df.plot(figsize = (20,6));"
   ]
  },
  {
   "cell_type": "markdown",
   "metadata": {},
   "source": [
    "INTERPRETATION"
   ]
  },
  {
   "cell_type": "code",
   "execution_count": null,
   "metadata": {},
   "outputs": [],
   "source": []
  },
  {
   "cell_type": "code",
   "execution_count": null,
   "metadata": {},
   "outputs": [],
   "source": []
  },
  {
   "cell_type": "markdown",
   "metadata": {},
   "source": [
    "## Data Preparation\n",
    "\n",
    "Describe and justify the process for preparing the data for analysis.\n",
    "\n",
    "Questions to consider:\n",
    "\n",
    "- Were there variables you dropped or created?\n",
    "- How did you address missing values or outliers?\n",
    "- Why are these choices appropriate given the data and the business problem?"
   ]
  },
  {
   "cell_type": "code",
   "execution_count": 33,
   "metadata": {},
   "outputs": [],
   "source": [
    "# code here to prepare your data"
   ]
  },
  {
   "cell_type": "code",
   "execution_count": null,
   "metadata": {},
   "outputs": [],
   "source": []
  },
  {
   "cell_type": "markdown",
   "metadata": {},
   "source": [
    "#### Test for Stationarity"
   ]
  },
  {
   "cell_type": "markdown",
   "metadata": {},
   "source": [
    "From simply looking at the data, we can tell it's not stationary, however, let's perform a statistical test (Dickry-Fuller Test) to be sure. "
   ]
  },
  {
   "cell_type": "code",
   "execution_count": 50,
   "metadata": {},
   "outputs": [],
   "source": [
    "#Perform a Dickey-Fuller Test\n",
    "\n",
    "# Extract and display test results in a user friendly manner\n",
    "def df_printout(data):\n",
    "    dftest= adfuller(data)\n",
    "    dfoutput = pd.Series(dftest[0:4], index=['Test Statistic', 'p-value', '#Lags Used', 'Number of Observations Used'])\n",
    "    for key,value in dftest[4].items():\n",
    "        dfoutput['Critical Value (%s)'%key] = value\n",
    "    print(dfoutput)\n",
    "\n",
    "#View test results\n"
   ]
  },
  {
   "cell_type": "markdown",
   "metadata": {},
   "source": [
    "INTERPRETATION OF ADFULLER TEST"
   ]
  },
  {
   "cell_type": "code",
   "execution_count": 51,
   "metadata": {},
   "outputs": [
    {
     "name": "stdout",
     "output_type": "stream",
     "text": [
      "Test Statistic                  2.525349\n",
      "p-value                         0.999058\n",
      "#Lags Used                     13.000000\n",
      "Number of Observations Used    94.000000\n",
      "Critical Value (1%)            -3.501912\n",
      "Critical Value (5%)            -2.892815\n",
      "Critical Value (10%)           -2.583454\n",
      "dtype: float64\n"
     ]
    }
   ],
   "source": [
    "df_printout(us_solar_df)"
   ]
  },
  {
   "cell_type": "markdown",
   "metadata": {},
   "source": [
    "INTERPRETATION OF RESULTS"
   ]
  },
  {
   "cell_type": "markdown",
   "metadata": {},
   "source": [
    "### Eliminating trend in our data"
   ]
  },
  {
   "cell_type": "code",
   "execution_count": 35,
   "metadata": {},
   "outputs": [],
   "source": [
    "us_roll_mean = us_solar_df.rolling(window=12, center=False).mean()\n",
    "us_roll_std = us_solar_df.rolling(window=12, center=False).std()"
   ]
  },
  {
   "cell_type": "code",
   "execution_count": 36,
   "metadata": {},
   "outputs": [
    {
     "data": {
      "image/png": "[encoded data removed]",
      "text/plain": [
       "<Figure size 864x504 with 1 Axes>"
      ]
     },
     "metadata": {
      "needs_background": "light"
     },
     "output_type": "display_data"
    }
   ],
   "source": [
    "fig = plt.figure(figsize=(12,7))\n",
    "plt.plot(us_solar_df, color='blue', label='Original')\n",
    "plt.plot(us_roll_mean, color='red', label='Rolling Mean')\n",
    "plt.plot(us_roll_std, color='black', label = 'Rolling Std')\n",
    "plt.legend(loc='best')\n",
    "plt.title('Rolling Mean & Standard Deviation')\n",
    "plt.show(block=False)"
   ]
  },
  {
   "cell_type": "markdown",
   "metadata": {},
   "source": [
    "INTERPRETATION OF GRAPH"
   ]
  },
  {
   "cell_type": "code",
   "execution_count": null,
   "metadata": {},
   "outputs": [],
   "source": []
  },
  {
   "cell_type": "markdown",
   "metadata": {},
   "source": [
    "### Subtracting Rolling Mean"
   ]
  },
  {
   "cell_type": "code",
   "execution_count": 37,
   "metadata": {},
   "outputs": [
    {
     "data": {
      "text/html": [
       "<div>\n",
       "<style scoped>\n",
       "    .dataframe tbody tr th:only-of-type {\n",
       "        vertical-align: middle;\n",
       "    }\n",
       "\n",
       "    .dataframe tbody tr th {\n",
       "        vertical-align: top;\n",
       "    }\n",
       "\n",
       "    .dataframe thead th {\n",
       "        text-align: right;\n",
       "    }\n",
       "</style>\n",
       "<table border=\"1\" class=\"dataframe\">\n",
       "  <thead>\n",
       "    <tr style=\"text-align: right;\">\n",
       "      <th></th>\n",
       "      <th>Solar Output (tmwh)</th>\n",
       "    </tr>\n",
       "  </thead>\n",
       "  <tbody>\n",
       "    <tr>\n",
       "      <th>2014-01-01</th>\n",
       "      <td>NaN</td>\n",
       "    </tr>\n",
       "    <tr>\n",
       "      <th>2014-02-01</th>\n",
       "      <td>NaN</td>\n",
       "    </tr>\n",
       "    <tr>\n",
       "      <th>2014-03-01</th>\n",
       "      <td>NaN</td>\n",
       "    </tr>\n",
       "    <tr>\n",
       "      <th>2014-04-01</th>\n",
       "      <td>NaN</td>\n",
       "    </tr>\n",
       "    <tr>\n",
       "      <th>2014-05-01</th>\n",
       "      <td>NaN</td>\n",
       "    </tr>\n",
       "    <tr>\n",
       "      <th>2014-06-01</th>\n",
       "      <td>NaN</td>\n",
       "    </tr>\n",
       "    <tr>\n",
       "      <th>2014-07-01</th>\n",
       "      <td>NaN</td>\n",
       "    </tr>\n",
       "    <tr>\n",
       "      <th>2014-08-01</th>\n",
       "      <td>NaN</td>\n",
       "    </tr>\n",
       "    <tr>\n",
       "      <th>2014-09-01</th>\n",
       "      <td>NaN</td>\n",
       "    </tr>\n",
       "    <tr>\n",
       "      <th>2014-10-01</th>\n",
       "      <td>NaN</td>\n",
       "    </tr>\n",
       "    <tr>\n",
       "      <th>2014-11-01</th>\n",
       "      <td>NaN</td>\n",
       "    </tr>\n",
       "    <tr>\n",
       "      <th>2014-12-01</th>\n",
       "      <td>-612.416667</td>\n",
       "    </tr>\n",
       "    <tr>\n",
       "      <th>2015-01-01</th>\n",
       "      <td>-552.333333</td>\n",
       "    </tr>\n",
       "    <tr>\n",
       "      <th>2015-02-01</th>\n",
       "      <td>-222.000000</td>\n",
       "    </tr>\n",
       "    <tr>\n",
       "      <th>2015-03-01</th>\n",
       "      <td>603.166667</td>\n",
       "    </tr>\n",
       "  </tbody>\n",
       "</table>\n",
       "</div>"
      ],
      "text/plain": [
       "            Solar Output (tmwh)\n",
       "2014-01-01                  NaN\n",
       "2014-02-01                  NaN\n",
       "2014-03-01                  NaN\n",
       "2014-04-01                  NaN\n",
       "2014-05-01                  NaN\n",
       "2014-06-01                  NaN\n",
       "2014-07-01                  NaN\n",
       "2014-08-01                  NaN\n",
       "2014-09-01                  NaN\n",
       "2014-10-01                  NaN\n",
       "2014-11-01                  NaN\n",
       "2014-12-01          -612.416667\n",
       "2015-01-01          -552.333333\n",
       "2015-02-01          -222.000000\n",
       "2015-03-01           603.166667"
      ]
     },
     "execution_count": 37,
     "metadata": {},
     "output_type": "execute_result"
    }
   ],
   "source": [
    "# Subtract the moving average from the original data\n",
    "us_solar_minus_roll_mean = us_solar_df - us_roll_mean\n",
    "us_solar_minus_roll_mean.head(15)"
   ]
  },
  {
   "cell_type": "code",
   "execution_count": 38,
   "metadata": {},
   "outputs": [],
   "source": [
    "# Drop the missing values from time series calculated above\n",
    "us_solar_minus_roll_mean.dropna(inplace=True)"
   ]
  },
  {
   "cell_type": "code",
   "execution_count": 39,
   "metadata": {
    "scrolled": false
   },
   "outputs": [
    {
     "data": {
      "image/png": "[encoded data removed]",
      "text/plain": [
       "<Figure size 792x504 with 1 Axes>"
      ]
     },
     "metadata": {
      "needs_background": "light"
     },
     "output_type": "display_data"
    }
   ],
   "source": [
    "fig = plt.figure(figsize=(11,7))\n",
    "plt.plot(us_solar_minus_roll_mean, color='blue',label='US Solar Output - rolling mean')\n",
    "plt.legend(loc='best')\n",
    "plt.title('US Solar Output minus the rolling mean')\n",
    "plt.show(block=False)"
   ]
  },
  {
   "cell_type": "code",
   "execution_count": 52,
   "metadata": {},
   "outputs": [
    {
     "name": "stdout",
     "output_type": "stream",
     "text": [
      "Test Statistic                 -0.470908\n",
      "p-value                         0.897570\n",
      "#Lags Used                     11.000000\n",
      "Number of Observations Used    85.000000\n",
      "Critical Value (1%)            -3.509736\n",
      "Critical Value (5%)            -2.896195\n",
      "Critical Value (10%)           -2.585258\n",
      "dtype: float64\n"
     ]
    }
   ],
   "source": [
    "#Perform A Dickey-Fuller Test\n",
    "df_printout(us_solar_minus_roll_mean)"
   ]
  },
  {
   "cell_type": "markdown",
   "metadata": {},
   "source": [
    "INTERPRETATION OF RESULTS"
   ]
  },
  {
   "cell_type": "markdown",
   "metadata": {},
   "source": [
    "### Differencing"
   ]
  },
  {
   "cell_type": "code",
   "execution_count": 41,
   "metadata": {},
   "outputs": [
    {
     "data": {
      "text/html": [
       "<div>\n",
       "<style scoped>\n",
       "    .dataframe tbody tr th:only-of-type {\n",
       "        vertical-align: middle;\n",
       "    }\n",
       "\n",
       "    .dataframe tbody tr th {\n",
       "        vertical-align: top;\n",
       "    }\n",
       "\n",
       "    .dataframe thead th {\n",
       "        text-align: right;\n",
       "    }\n",
       "</style>\n",
       "<table border=\"1\" class=\"dataframe\">\n",
       "  <thead>\n",
       "    <tr style=\"text-align: right;\">\n",
       "      <th></th>\n",
       "      <th>Solar Output (tmwh)</th>\n",
       "    </tr>\n",
       "  </thead>\n",
       "  <tbody>\n",
       "    <tr>\n",
       "      <th>2014-01-01</th>\n",
       "      <td>NaN</td>\n",
       "    </tr>\n",
       "    <tr>\n",
       "      <th>2014-02-01</th>\n",
       "      <td>124.0</td>\n",
       "    </tr>\n",
       "    <tr>\n",
       "      <th>2014-03-01</th>\n",
       "      <td>725.0</td>\n",
       "    </tr>\n",
       "    <tr>\n",
       "      <th>2014-04-01</th>\n",
       "      <td>252.0</td>\n",
       "    </tr>\n",
       "    <tr>\n",
       "      <th>2014-05-01</th>\n",
       "      <td>366.0</td>\n",
       "    </tr>\n",
       "    <tr>\n",
       "      <th>2014-06-01</th>\n",
       "      <td>182.0</td>\n",
       "    </tr>\n",
       "    <tr>\n",
       "      <th>2014-07-01</th>\n",
       "      <td>-88.0</td>\n",
       "    </tr>\n",
       "    <tr>\n",
       "      <th>2014-08-01</th>\n",
       "      <td>83.0</td>\n",
       "    </tr>\n",
       "    <tr>\n",
       "      <th>2014-09-01</th>\n",
       "      <td>-140.0</td>\n",
       "    </tr>\n",
       "    <tr>\n",
       "      <th>2014-10-01</th>\n",
       "      <td>-197.0</td>\n",
       "    </tr>\n",
       "  </tbody>\n",
       "</table>\n",
       "</div>"
      ],
      "text/plain": [
       "            Solar Output (tmwh)\n",
       "2014-01-01                  NaN\n",
       "2014-02-01                124.0\n",
       "2014-03-01                725.0\n",
       "2014-04-01                252.0\n",
       "2014-05-01                366.0\n",
       "2014-06-01                182.0\n",
       "2014-07-01                -88.0\n",
       "2014-08-01                 83.0\n",
       "2014-09-01               -140.0\n",
       "2014-10-01               -197.0"
      ]
     },
     "execution_count": 41,
     "metadata": {},
     "output_type": "execute_result"
    }
   ],
   "source": [
    "us_solar_diff = us_solar_df.diff(periods=1)\n",
    "us_solar_diff.head(10)"
   ]
  },
  {
   "cell_type": "code",
   "execution_count": 44,
   "metadata": {},
   "outputs": [],
   "source": [
    "us_solar_diff.dropna(inplace=True)"
   ]
  },
  {
   "cell_type": "code",
   "execution_count": 45,
   "metadata": {},
   "outputs": [
    {
     "data": {
      "image/png": "[encoded data removed]",
      "text/plain": [
       "<Figure size 792x504 with 1 Axes>"
      ]
     },
     "metadata": {
      "needs_background": "light"
     },
     "output_type": "display_data"
    }
   ],
   "source": [
    "fig = plt.figure(figsize=(11,7))\n",
    "plt.plot(us_solar_diff, color='blue',label='US Solar Power Output with Differencing')\n",
    "plt.legend(loc='best')\n",
    "plt.title('Differenced US Solar Power Output')\n",
    "plt.show(block=False)"
   ]
  },
  {
   "cell_type": "code",
   "execution_count": 53,
   "metadata": {},
   "outputs": [
    {
     "name": "stdout",
     "output_type": "stream",
     "text": [
      "Test Statistic                 -1.330986\n",
      "p-value                         0.614880\n",
      "#Lags Used                     13.000000\n",
      "Number of Observations Used    93.000000\n",
      "Critical Value (1%)            -3.502705\n",
      "Critical Value (5%)            -2.893158\n",
      "Critical Value (10%)           -2.583637\n",
      "dtype: float64\n"
     ]
    }
   ],
   "source": [
    "#Perform A Dickey-Fuller Test\n",
    "df_printout(us_solar_diff)"
   ]
  },
  {
   "cell_type": "markdown",
   "metadata": {},
   "source": [
    "INTERPRETATION OF RESULTS"
   ]
  },
  {
   "cell_type": "markdown",
   "metadata": {},
   "source": [
    "### Log Transformation"
   ]
  },
  {
   "cell_type": "code",
   "execution_count": 73,
   "metadata": {
    "scrolled": false
   },
   "outputs": [
    {
     "data": {
      "image/png": "[encoded data removed]",
      "text/plain": [
       "<Figure size 864x432 with 1 Axes>"
      ]
     },
     "metadata": {
      "needs_background": "light"
     },
     "output_type": "display_data"
    }
   ],
   "source": [
    "#Log Transform the data\n",
    "us_solar_log = np.log(us_solar_df)\n",
    "\n",
    "#Plot the data\n",
    "fig = plt.figure(figsize=(12,6))\n",
    "plt.plot(us_solar_log, color='blue')\n",
    "plt.xlabel('Month', fontsize=14)\n",
    "plt.ylabel('log(US Solar Power Output)', fontsize=14)\n",
    "plt.show()"
   ]
  },
  {
   "cell_type": "code",
   "execution_count": 56,
   "metadata": {},
   "outputs": [
    {
     "name": "stdout",
     "output_type": "stream",
     "text": [
      "Test Statistic                 -1.876097\n",
      "p-value                         0.343388\n",
      "#Lags Used                     13.000000\n",
      "Number of Observations Used    94.000000\n",
      "Critical Value (1%)            -3.501912\n",
      "Critical Value (5%)            -2.892815\n",
      "Critical Value (10%)           -2.583454\n",
      "dtype: float64\n"
     ]
    }
   ],
   "source": [
    "#Perform A Dickey-Fuller Test\n",
    "df_printout(us_solar_log)"
   ]
  },
  {
   "cell_type": "markdown",
   "metadata": {},
   "source": [
    "INTERPRETATION OF RESULTS"
   ]
  },
  {
   "cell_type": "markdown",
   "metadata": {},
   "source": [
    "### Square Root Transformation"
   ]
  },
  {
   "cell_type": "code",
   "execution_count": 74,
   "metadata": {},
   "outputs": [
    {
     "data": {
      "image/png": "[encoded data removed]",
      "text/plain": [
       "<Figure size 864x432 with 1 Axes>"
      ]
     },
     "metadata": {
      "needs_background": "light"
     },
     "output_type": "display_data"
    }
   ],
   "source": [
    "#Square Root Transform the data\n",
    "us_solar_sqrt = np.sqrt(us_solar_df)\n",
    "\n",
    "#Plot the data\n",
    "fig = plt.figure(figsize=(12,6))\n",
    "plt.plot(us_solar_log, color='blue')\n",
    "plt.xlabel('Month', fontsize=14)\n",
    "plt.ylabel('log(US Solar Power Output)', fontsize=14)\n",
    "plt.show()"
   ]
  },
  {
   "cell_type": "code",
   "execution_count": 75,
   "metadata": {},
   "outputs": [
    {
     "name": "stdout",
     "output_type": "stream",
     "text": [
      "Test Statistic                  0.787054\n",
      "p-value                         0.991424\n",
      "#Lags Used                     13.000000\n",
      "Number of Observations Used    94.000000\n",
      "Critical Value (1%)            -3.501912\n",
      "Critical Value (5%)            -2.892815\n",
      "Critical Value (10%)           -2.583454\n",
      "dtype: float64\n"
     ]
    }
   ],
   "source": [
    "#Perform A Dickey-Fuller Test\n",
    "df_printout(us_solar_sqrt)"
   ]
  },
  {
   "cell_type": "markdown",
   "metadata": {},
   "source": [
    "INTERPRETATION OF RESULTS"
   ]
  },
  {
   "cell_type": "markdown",
   "metadata": {},
   "source": [
    "### Time Series Decomposition"
   ]
  },
  {
   "cell_type": "markdown",
   "metadata": {},
   "source": [
    "Decompose data and test it stationarity"
   ]
  },
  {
   "cell_type": "markdown",
   "metadata": {},
   "source": [
    "#### Decomposition on Original Data"
   ]
  },
  {
   "cell_type": "code",
   "execution_count": 67,
   "metadata": {},
   "outputs": [
    {
     "data": {
      "text/plain": [
       "<statsmodels.tsa.seasonal.DecomposeResult at 0x7fe156ca7f70>"
      ]
     },
     "execution_count": 67,
     "metadata": {},
     "output_type": "execute_result"
    }
   ],
   "source": [
    "#Decompose our original data\n",
    "decomposition = seasonal_decompose(us_solar_df)\n",
    "decomposition"
   ]
  },
  {
   "cell_type": "code",
   "execution_count": 68,
   "metadata": {},
   "outputs": [],
   "source": [
    "# Save the trend, seasonality and noise of decomposed object as variables\n",
    "trend = decomposition.trend\n",
    "seasonality = decomposition.seasonal\n",
    "noise = decomposition.resid"
   ]
  },
  {
   "cell_type": "code",
   "execution_count": 69,
   "metadata": {},
   "outputs": [
    {
     "data": {
      "image/png": "[encoded data removed]",
      "text/plain": [
       "<Figure size 864x576 with 4 Axes>"
      ]
     },
     "metadata": {
      "needs_background": "light"
     },
     "output_type": "display_data"
    }
   ],
   "source": [
    "# Plot gathered statistics\n",
    "plt.figure(figsize=(12, 8))\n",
    "plt.subplot(411)\n",
    "plt.plot(us_solar_df, label='Original')\n",
    "plt.legend(loc='upper left')\n",
    "plt.subplot(412)\n",
    "plt.plot(trend, label='Trend')\n",
    "plt.legend(loc='upper left')\n",
    "plt.subplot(413)\n",
    "plt.plot(seasonality,label='Seasonality')\n",
    "plt.legend(loc='upper left')\n",
    "plt.subplot(414)\n",
    "plt.plot(noise, label='Noise')\n",
    "plt.legend(loc='upper left')\n",
    "plt.tight_layout()"
   ]
  },
  {
   "cell_type": "code",
   "execution_count": 70,
   "metadata": {},
   "outputs": [],
   "source": [
    "# Drop NaN values from residuals.\n",
    "us_solar_decompose = noise\n",
    "us_solar_decompose.dropna(inplace=True)"
   ]
  },
  {
   "cell_type": "code",
   "execution_count": 71,
   "metadata": {},
   "outputs": [
    {
     "name": "stdout",
     "output_type": "stream",
     "text": [
      "Test Statistic                 -5.505656\n",
      "p-value                         0.000002\n",
      "#Lags Used                     10.000000\n",
      "Number of Observations Used    85.000000\n",
      "Critical Value (1%)            -3.509736\n",
      "Critical Value (5%)            -2.896195\n",
      "Critical Value (10%)           -2.585258\n",
      "dtype: float64\n"
     ]
    }
   ],
   "source": [
    "#Check for stationarity with the Dickey-Fuller Test\n",
    "df_printout(us_solar_decompose)"
   ]
  },
  {
   "cell_type": "markdown",
   "metadata": {},
   "source": [
    "INTERPRETATION OF RESULTS"
   ]
  },
  {
   "cell_type": "markdown",
   "metadata": {},
   "source": [
    "#### Decomposition on Log Transformed Data"
   ]
  },
  {
   "cell_type": "markdown",
   "metadata": {},
   "source": [
    "Since Log Transforming our data lowered our p-value the most, let's try decomposition again but using our log transformed data this time. "
   ]
  },
  {
   "cell_type": "code",
   "execution_count": 76,
   "metadata": {},
   "outputs": [
    {
     "data": {
      "text/plain": [
       "<statsmodels.tsa.seasonal.DecomposeResult at 0x7fe15542ec70>"
      ]
     },
     "execution_count": 76,
     "metadata": {},
     "output_type": "execute_result"
    }
   ],
   "source": [
    "#Decompose our log transformed data\n",
    "decomposition = seasonal_decompose(us_solar_log)\n",
    "decomposition"
   ]
  },
  {
   "cell_type": "code",
   "execution_count": 77,
   "metadata": {},
   "outputs": [],
   "source": [
    "# Save the trend, seasonality and noise of decomposed object as  variables\n",
    "trend = decomposition.trend\n",
    "seasonality = decomposition.seasonal\n",
    "noise = decomposition.resid"
   ]
  },
  {
   "cell_type": "code",
   "execution_count": 78,
   "metadata": {},
   "outputs": [
    {
     "data": {
      "image/png": "[encoded data removed]",
      "text/plain": [
       "<Figure size 864x576 with 4 Axes>"
      ]
     },
     "metadata": {
      "needs_background": "light"
     },
     "output_type": "display_data"
    }
   ],
   "source": [
    "# Plot gathered statistics\n",
    "plt.figure(figsize=(12, 8))\n",
    "plt.subplot(411)\n",
    "plt.plot(us_solar_log, label='Original')\n",
    "plt.legend(loc='upper left')\n",
    "plt.subplot(412)\n",
    "plt.plot(trend, label='Trend')\n",
    "plt.legend(loc='upper left')\n",
    "plt.subplot(413)\n",
    "plt.plot(seasonality,label='Seasonality')\n",
    "plt.legend(loc='upper left')\n",
    "plt.subplot(414)\n",
    "plt.plot(noise, label='Noise')\n",
    "plt.legend(loc='upper left')\n",
    "plt.tight_layout()"
   ]
  },
  {
   "cell_type": "code",
   "execution_count": 79,
   "metadata": {},
   "outputs": [],
   "source": [
    "# Drop NaN values from residuals.\n",
    "us_solar_log_decompose = noise\n",
    "us_solar_log_decompose.dropna(inplace=True)"
   ]
  },
  {
   "cell_type": "code",
   "execution_count": 80,
   "metadata": {},
   "outputs": [
    {
     "name": "stdout",
     "output_type": "stream",
     "text": [
      "Test Statistic                -5.934232e+00\n",
      "p-value                        2.341465e-07\n",
      "#Lags Used                     7.000000e+00\n",
      "Number of Observations Used    8.800000e+01\n",
      "Critical Value (1%)           -3.506944e+00\n",
      "Critical Value (5%)           -2.894990e+00\n",
      "Critical Value (10%)          -2.584615e+00\n",
      "dtype: float64\n"
     ]
    }
   ],
   "source": [
    "#Check for stationarity with the Dickey-Fuller Test\n",
    "df_printout(us_solar_log_decompose)"
   ]
  },
  {
   "cell_type": "markdown",
   "metadata": {},
   "source": [
    "INTERPRETATION OF RESULTS"
   ]
  },
  {
   "cell_type": "markdown",
   "metadata": {},
   "source": [
    "### ACF and PACF"
   ]
  },
  {
   "cell_type": "code",
   "execution_count": 82,
   "metadata": {},
   "outputs": [
    {
     "data": {
      "image/png": "[encoded data removed]",
      "text/plain": [
       "<Figure size 1152x216 with 1 Axes>"
      ]
     },
     "execution_count": 82,
     "metadata": {},
     "output_type": "execute_result"
    },
    {
     "data": {
      "image/png": "[encoded data removed]",
      "text/plain": [
       "<Figure size 1152x216 with 1 Axes>"
      ]
     },
     "metadata": {
      "needs_background": "light"
     },
     "output_type": "display_data"
    }
   ],
   "source": [
    "# Plot the ACF\n",
    "fig, ax = plt.subplots(figsize=(16,3))\n",
    "plot_acf(us_solar_log_decompose, ax=ax)"
   ]
  },
  {
   "cell_type": "code",
   "execution_count": null,
   "metadata": {},
   "outputs": [],
   "source": [
    "INTERPRETATION OF RESULTS"
   ]
  },
  {
   "cell_type": "code",
   "execution_count": 83,
   "metadata": {},
   "outputs": [
    {
     "data": {
      "image/png": "[encoded data removed]",
      "text/plain": [
       "<Figure size 1152x216 with 1 Axes>"
      ]
     },
     "execution_count": 83,
     "metadata": {},
     "output_type": "execute_result"
    },
    {
     "data": {
      "image/png": "[encoded data removed]",
      "text/plain": [
       "<Figure size 1152x216 with 1 Axes>"
      ]
     },
     "metadata": {
      "needs_background": "light"
     },
     "output_type": "display_data"
    }
   ],
   "source": [
    "# Plot the PACF\n",
    "fig, ax = plt.subplots(figsize=(16,3))\n",
    "plot_pacf(us_solar_log_decompose, ax=ax, method='ywm')"
   ]
  },
  {
   "cell_type": "code",
   "execution_count": null,
   "metadata": {},
   "outputs": [],
   "source": [
    "INTERPRETATION OF RESULTS"
   ]
  },
  {
   "cell_type": "markdown",
   "metadata": {},
   "source": [
    "## Modeling\n",
    "\n",
    "Describe and justify the process for analyzing or modeling the data.\n",
    "\n",
    "Questions to consider:\n",
    "\n",
    "- How did you analyze the data to arrive at an initial approach?\n",
    "- How did you iterate on your initial approach to make it better?\n",
    "- Why are these choices appropriate given the data and the business problem?"
   ]
  },
  {
   "cell_type": "markdown",
   "metadata": {},
   "source": []
  },
  {
   "cell_type": "markdown",
   "metadata": {},
   "source": [
    "### Train-Test Split"
   ]
  },
  {
   "cell_type": "code",
   "execution_count": 84,
   "metadata": {},
   "outputs": [
    {
     "data": {
      "text/plain": [
       "77"
      ]
     },
     "execution_count": 84,
     "metadata": {},
     "output_type": "execute_result"
    }
   ],
   "source": [
    "# find the index which allows us to split off 20% of the data\n",
    "\n",
    "cutoff = round(us_solar_log_decompose.shape[0]*0.8)\n",
    "cutoff"
   ]
  },
  {
   "cell_type": "code",
   "execution_count": 85,
   "metadata": {},
   "outputs": [],
   "source": [
    "# Define train and test sets according to the index found above\n",
    "\n",
    "train = us_solar_log_decompose[:cutoff]\n",
    "\n",
    "test = us_solar_log_decompose[cutoff:]"
   ]
  },
  {
   "cell_type": "code",
   "execution_count": 86,
   "metadata": {},
   "outputs": [
    {
     "data": {
      "image/png": "[encoded data removed]",
      "text/plain": [
       "<Figure size 864x576 with 1 Axes>"
      ]
     },
     "metadata": {
      "needs_background": "light"
     },
     "output_type": "display_data"
    }
   ],
   "source": [
    "# Plot of our train test split\n",
    "\n",
    "fig, ax = plt.subplots(figsize=(12, 8))\n",
    "\n",
    "ax.plot(train, label='train')\n",
    "ax.plot(test, label='test')\n",
    "ax.set_title('Train-Test Split');\n",
    "plt.legend();"
   ]
  },
  {
   "cell_type": "markdown",
   "metadata": {},
   "source": [
    "### Baseline Understanding\n",
    "\n",
    "- What does a baseline, model-less prediction look like?"
   ]
  },
  {
   "cell_type": "code",
   "execution_count": null,
   "metadata": {},
   "outputs": [],
   "source": [
    "# code here to arrive at a baseline prediction"
   ]
  },
  {
   "cell_type": "code",
   "execution_count": 89,
   "metadata": {},
   "outputs": [
    {
     "data": {
      "text/plain": [
       "2014-07-01         NaN\n",
       "2014-08-01   -0.056595\n",
       "2014-09-01   -0.014032\n",
       "2014-10-01    0.036716\n",
       "2014-11-01    0.076510\n",
       "                ...   \n",
       "2020-07-01    0.005976\n",
       "2020-08-01    0.071355\n",
       "2020-09-01   -0.001665\n",
       "2020-10-01   -0.054270\n",
       "2020-11-01   -0.034192\n",
       "Name: resid, Length: 77, dtype: float64"
      ]
     },
     "execution_count": 89,
     "metadata": {},
     "output_type": "execute_result"
    }
   ],
   "source": [
    "naive = train.shift(1)\n",
    "naive"
   ]
  },
  {
   "cell_type": "code",
   "execution_count": null,
   "metadata": {},
   "outputs": [],
   "source": []
  },
  {
   "cell_type": "code",
   "execution_count": 90,
   "metadata": {},
   "outputs": [
    {
     "name": "stdout",
     "output_type": "stream",
     "text": [
      "0.05616957031128276\n"
     ]
    }
   ],
   "source": [
    "#Root Mean Square Error(RMSE) For our baseline model\n",
    "print(mean_squared_error(train[1:], naive.dropna(), squared=False))"
   ]
  },
  {
   "cell_type": "code",
   "execution_count": null,
   "metadata": {},
   "outputs": [],
   "source": []
  },
  {
   "cell_type": "code",
   "execution_count": null,
   "metadata": {},
   "outputs": [],
   "source": []
  },
  {
   "cell_type": "markdown",
   "metadata": {},
   "source": [
    "### Maybe put ACF and PACF here?"
   ]
  },
  {
   "cell_type": "code",
   "execution_count": null,
   "metadata": {},
   "outputs": [],
   "source": []
  },
  {
   "cell_type": "code",
   "execution_count": null,
   "metadata": {},
   "outputs": [],
   "source": []
  },
  {
   "cell_type": "markdown",
   "metadata": {},
   "source": [
    "### First  Model\n",
    "\n",
    "Before going too far down the data preparation rabbit hole, be sure to check your work against a first 'substandard' model! What is the easiest way for you to find out how hard your problem is?"
   ]
  },
  {
   "cell_type": "code",
   "execution_count": 88,
   "metadata": {},
   "outputs": [
    {
     "name": "stdout",
     "output_type": "stream",
     "text": [
      "                               SARIMAX Results                                \n",
      "==============================================================================\n",
      "Dep. Variable:                  resid   No. Observations:                   96\n",
      "Model:                 ARIMA(1, 0, 0)   Log Likelihood                 171.233\n",
      "Date:                Thu, 23 Mar 2023   AIC                           -336.466\n",
      "Time:                        17:02:16   BIC                           -328.773\n",
      "Sample:                    07-01-2014   HQIC                          -333.356\n",
      "                         - 06-01-2022                                         \n",
      "Covariance Type:                  opg                                         \n",
      "==============================================================================\n",
      "                 coef    std err          z      P>|z|      [0.025      0.975]\n",
      "------------------------------------------------------------------------------\n",
      "const          0.0017      0.005      0.367      0.713      -0.008       0.011\n",
      "ar.L1          0.1190      0.098      1.219      0.223      -0.072       0.310\n",
      "sigma2         0.0017      0.000      6.413      0.000       0.001       0.002\n",
      "===================================================================================\n",
      "Ljung-Box (L1) (Q):                   0.04   Jarque-Bera (JB):                 0.30\n",
      "Prob(Q):                              0.85   Prob(JB):                         0.86\n",
      "Heteroskedasticity (H):               0.73   Skew:                            -0.01\n",
      "Prob(H) (two-sided):                  0.38   Kurtosis:                         2.73\n",
      "===================================================================================\n",
      "\n",
      "Warnings:\n",
      "[1] Covariance matrix calculated using the outer product of gradients (complex-step).\n"
     ]
    }
   ],
   "source": [
    "# code here for your first 'substandard' model\n",
    "\n",
    "# Fit an ARMA(1,0,0) model\n",
    "AR1 = ARIMA(us_solar_log_decompose, order=(1,0,0))\n",
    "results_AR1 = AR1.fit()\n",
    "\n",
    "# Print out summary information on the fit\n",
    "print(results_AR1.summary())"
   ]
  },
  {
   "cell_type": "code",
   "execution_count": 93,
   "metadata": {},
   "outputs": [],
   "source": [
    "# code here to evaluate your first 'substandard' model\n",
    "\n",
    "#Root Mean Square Error(RMSE) For our first 'substandard' model\n"
   ]
  },
  {
   "cell_type": "markdown",
   "metadata": {},
   "source": [
    "### Modeling Iterations\n",
    "\n",
    "Now you can start to use the results of your first model to iterate - there are many options!"
   ]
  },
  {
   "cell_type": "code",
   "execution_count": 34,
   "metadata": {},
   "outputs": [],
   "source": [
    "# code here to iteratively improve your models"
   ]
  },
  {
   "cell_type": "code",
   "execution_count": 35,
   "metadata": {},
   "outputs": [],
   "source": [
    "# code here to evaluate your iterations"
   ]
  },
  {
   "cell_type": "markdown",
   "metadata": {},
   "source": [
    "### 'Final' Model\n",
    "\n",
    "In the end, you'll arrive at a 'final' model - aka the one you'll use to make your recommendations/conclusions. This likely blends any group work. It might not be the one with the highest scores, but instead might be considered 'final' or 'best' for other reasons."
   ]
  },
  {
   "cell_type": "code",
   "execution_count": 36,
   "metadata": {},
   "outputs": [],
   "source": [
    "# code here to show your final model"
   ]
  },
  {
   "cell_type": "code",
   "execution_count": 37,
   "metadata": {},
   "outputs": [],
   "source": [
    "# code here to evaluate your final model"
   ]
  },
  {
   "cell_type": "markdown",
   "metadata": {},
   "source": [
    "## Evaluation\n",
    "\n",
    "The evaluation of each model should accompany the creation of each model, and you should be sure to evaluate your models consistently.\n",
    "\n",
    "Evaluate how well your work solves the stated business problem. \n",
    "\n",
    "Questions to consider:\n",
    "\n",
    "- How do you interpret the results?\n",
    "- How well does your model fit your data? How much better is this than your baseline model? Is it over or under fit?\n",
    "- How well does your model/data fit any modeling assumptions?\n",
    "\n",
    "For the final model, you might also consider:\n",
    "\n",
    "- How confident are you that your results would generalize beyond the data you have?\n",
    "- How confident are you that this model would benefit the business if put into use?"
   ]
  },
  {
   "cell_type": "markdown",
   "metadata": {},
   "source": [
    "## Conclusions\n",
    "\n",
    "Provide your conclusions about the work you've done, including any limitations or next steps.\n",
    "\n",
    "Questions to consider:\n",
    "\n",
    "- What would you recommend the business do as a result of this work?\n",
    "- What are some reasons why your analysis might not fully solve the business problem?\n",
    "- What else could you do in the future to improve this project (future work)?\n"
   ]
  },
  {
   "cell_type": "code",
   "execution_count": null,
   "metadata": {},
   "outputs": [],
   "source": []
  }
 ],
 "metadata": {
  "kernelspec": {
   "display_name": "Python (learn-env)",
   "language": "python",
   "name": "learn-env"
  },
  "language_info": {
   "codemirror_mode": {
    "name": "ipython",
    "version": 3
   },
   "file_extension": ".py",
   "mimetype": "text/x-python",
   "name": "python",
   "nbconvert_exporter": "python",
   "pygments_lexer": "ipython3",
   "version": "3.8.5"
  }
 },
 "nbformat": 4,
 "nbformat_minor": 4
}
